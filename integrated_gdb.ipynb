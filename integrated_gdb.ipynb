{
 "cells": [
  {
   "cell_type": "code",
   "execution_count": 3,
   "id": "21ebabda-8b98-4e43-9f5e-b0d6276c6456",
   "metadata": {},
   "outputs": [],
   "source": [
    "import pandas as pd\n",
    "import geopandas as gpd"
   ]
  },
  {
   "cell_type": "code",
   "execution_count": 5,
   "id": "825d3a6e-a565-43c2-b9cd-ec4db4259f50",
   "metadata": {},
   "outputs": [],
   "source": [
    "shape = gpd.read_file('QGIS/statsnz-statistical-area-1-2018-generalised-SHP/statistical-area-1-2018-generalised.shp')"
   ]
  },
  {
   "cell_type": "code",
   "execution_count": 7,
   "id": "c5548ec7-41ac-401f-8f4f-471a9d11c389",
   "metadata": {},
   "outputs": [],
   "source": [
    "df = pd.read_csv('NZ_Data/integrated_checked.csv')"
   ]
  },
  {
   "cell_type": "code",
   "execution_count": 9,
   "id": "565d27e6-c17c-4ec6-a010-7cf08f9ab113",
   "metadata": {},
   "outputs": [
    {
     "data": {
      "text/plain": [
       "SA12018_V1      object\n",
       "LANDWATER       object\n",
       "LANDWATER_      object\n",
       "LAND_AREA_     float64\n",
       "AREA_SQ_KM     float64\n",
       "Shape_Leng     float64\n",
       "geometry      geometry\n",
       "dtype: object"
      ]
     },
     "execution_count": 9,
     "metadata": {},
     "output_type": "execute_result"
    }
   ],
   "source": [
    "shape.dtypes"
   ]
  },
  {
   "cell_type": "code",
   "execution_count": 11,
   "id": "29f2449a-1e75-48b1-875a-e43c5ec8ec77",
   "metadata": {},
   "outputs": [],
   "source": [
    "lst = list(shape['SA12018_V1'])"
   ]
  },
  {
   "cell_type": "code",
   "execution_count": 12,
   "id": "1709daab-ca82-42cb-b5b3-c601dc57b510",
   "metadata": {},
   "outputs": [],
   "source": [
    "for i in range(0,len(lst)):\n",
    "    lst[i] = int(lst[i])"
   ]
  },
  {
   "cell_type": "code",
   "execution_count": 15,
   "id": "d6ecc5fd-8073-43ae-91dc-2e0354585e51",
   "metadata": {},
   "outputs": [],
   "source": [
    "shape['SA12018_V1'] = lst"
   ]
  },
  {
   "cell_type": "code",
   "execution_count": 18,
   "id": "f9880808-90d3-4915-9b4c-d544884c74a3",
   "metadata": {},
   "outputs": [],
   "source": [
    "gdf = shape.merge(df, how='outer', left_on = 'SA12018_V1', right_on = 'SA12018_V1_00')"
   ]
  },
  {
   "cell_type": "code",
   "execution_count": 20,
   "id": "b9ac4540-cb2a-495e-aee7-e5d23c702aea",
   "metadata": {},
   "outputs": [],
   "source": [
    "gdf = gdf.drop(['Unnamed: 0.1', 'Unnamed: 0', 'SA12018_V1_00'], axis = 1)"
   ]
  },
  {
   "cell_type": "code",
   "execution_count": 22,
   "id": "f26c39a2-18de-4182-b090-20f32b6eeb60",
   "metadata": {},
   "outputs": [],
   "source": [
    "# remove redundant columns\n",
    "gdf = gdf.loc[:, ~gdf.columns.duplicated(keep='first')]"
   ]
  },
  {
   "cell_type": "code",
   "execution_count": 24,
   "id": "da475c43-8a40-4e93-a4dc-a11bfdb0a81b",
   "metadata": {},
   "outputs": [],
   "source": [
    "gdf.to_file('integrated_checked.geojson', driver='GeoJSON')"
   ]
  },
  {
   "cell_type": "code",
   "execution_count": null,
   "id": "0ec98dfc-b095-403e-833b-6f2d7cf3445a",
   "metadata": {},
   "outputs": [],
   "source": []
  }
 ],
 "metadata": {
  "kernelspec": {
   "display_name": "Python 3 (ipykernel)",
   "language": "python",
   "name": "python3"
  },
  "language_info": {
   "codemirror_mode": {
    "name": "ipython",
    "version": 3
   },
   "file_extension": ".py",
   "mimetype": "text/x-python",
   "name": "python",
   "nbconvert_exporter": "python",
   "pygments_lexer": "ipython3",
   "version": "3.10.9"
  }
 },
 "nbformat": 4,
 "nbformat_minor": 5
}

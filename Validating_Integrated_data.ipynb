{
 "cells": [
  {
   "cell_type": "code",
   "execution_count": 38,
   "id": "7d9a629f-a5ff-44b4-bdaf-df2cfe0eb22b",
   "metadata": {},
   "outputs": [],
   "source": [
    "import pandas as pd\n",
    "import numpy as np\n",
    "import numbers"
   ]
  },
  {
   "cell_type": "code",
   "execution_count": 2,
   "id": "f4b24252-4bda-4d33-8636-963120ac00c5",
   "metadata": {},
   "outputs": [],
   "source": [
    "# load the integrated dataset\n",
    "df = pd.read_csv('NZ_Data/integrated_data.csv')"
   ]
  },
  {
   "cell_type": "markdown",
   "id": "5b10b1c9-455c-4cae-8276-84274ee2a018",
   "metadata": {},
   "source": [
    "#### Check that the data of each field matches the expected datatype."
   ]
  },
  {
   "cell_type": "markdown",
   "id": "54c5f7f7-7d15-4a0f-9cc7-30d0cebd88fc",
   "metadata": {},
   "source": [
    "The columns with the object datatype are the ones that have mixed datatypes, so I'm going to review all of the data in them to make sure that the types are correct."
   ]
  },
  {
   "cell_type": "code",
   "execution_count": 6,
   "id": "f3ded90c-82ab-419a-a199-c8984778523a",
   "metadata": {},
   "outputs": [],
   "source": [
    "obj_cols = df.select_dtypes(include='object').columns"
   ]
  },
  {
   "cell_type": "code",
   "execution_count": 8,
   "id": "e33b943e-b014-4497-a81f-f8f9c08059a5",
   "metadata": {},
   "outputs": [],
   "source": [
    "obj_cols= list(obj_cols)"
   ]
  },
  {
   "cell_type": "code",
   "execution_count": 9,
   "id": "ff16d061-430d-4562-ad1d-54da74197c78",
   "metadata": {},
   "outputs": [
    {
     "data": {
      "text/plain": [
       "['LANDWATER_NAME',\n",
       " 'SA22018_name',\n",
       " 'SVI18_CDEM_region',\n",
       " 'SVI18_TA2018',\n",
       " 'SVI18_SA2_name',\n",
       " 'SVI18_urbanrural',\n",
       " 'SVI18_HHchild0-4y_quality',\n",
       " 'SVI18_HHchild0-14y_quality',\n",
       " 'SVI18_single65overHHquality',\n",
       " 'SVI18_singleparentHH_quality',\n",
       " 'SVI18_nocar_quality',\n",
       " 'SVI18_onepersonHH_quality',\n",
       " 'SVI18_nomobile_quality',\n",
       " 'SVI18_nointernet_quality',\n",
       " 'SVI18_crowdedhh_quality',\n",
       " 'SVI18_crowdedhhpeople_quality',\n",
       " 'SVI18_damp_quality',\n",
       " 'SVI18_severedamp_quality',\n",
       " 'SVI18_mouldy_quality',\n",
       " 'SVI18_severemould_quality',\n",
       " 'SVI18_nosafewater_quality',\n",
       " 'SVI18_nofridge_quality',\n",
       " 'SVI18_nopower_quality',\n",
       " 'Year']"
      ]
     },
     "execution_count": 9,
     "metadata": {},
     "output_type": "execute_result"
    }
   ],
   "source": [
    "obj_cols"
   ]
  },
  {
   "cell_type": "markdown",
   "id": "a60f1595-c82c-441b-b1ee-25667172c59e",
   "metadata": {},
   "source": [
    "All of the above columns have string data, so their classification as object data makes sense."
   ]
  },
  {
   "cell_type": "markdown",
   "id": "5780bbc8-aa06-48dc-b6f5-4a6dad1f8d2b",
   "metadata": {},
   "source": [
    "#### Check that numerical data is within an expected range"
   ]
  },
  {
   "cell_type": "markdown",
   "id": "08fa7ba7-ded9-49a7-a790-5a54809d4a52",
   "metadata": {},
   "source": [
    "All numerical data should be positive"
   ]
  },
  {
   "cell_type": "code",
   "execution_count": 39,
   "id": "bd153171-0662-4f30-9b0e-d750d880421f",
   "metadata": {},
   "outputs": [],
   "source": [
    "for index, row in df.iterrows():\n",
    "    for col in cols:\n",
    "        if isinstance(row[col], numbers.Number) and row[col] < 0:\n",
    "            print(col)\n",
    "            print(index)\n",
    "            print(row[col])"
   ]
  },
  {
   "cell_type": "markdown",
   "id": "4b1c4ada-adf8-4f45-96af-9c9a231bd82b",
   "metadata": {},
   "source": [
    "All percentages should be between 0 and 100 - PROBLEM"
   ]
  },
  {
   "cell_type": "code",
   "execution_count": 59,
   "id": "f9cac82b-0eef-4fdd-a94e-08c1ed9fa1db",
   "metadata": {},
   "outputs": [
    {
     "name": "stdout",
     "output_type": "stream",
     "text": [
      "SVI18_o60yEuropean_percent\n",
      "23827\n",
      "104.5\n",
      "7023827\n",
      "SVI18_o60yEuropean_percent\n",
      "23828\n",
      "104.5\n",
      "7023828\n",
      "SVI18_o60yEuropean_percent\n",
      "23829\n",
      "104.5\n",
      "7023829\n"
     ]
    }
   ],
   "source": [
    "cols = df.columns\n",
    "for index, row in df.iterrows():\n",
    "    for col in cols:\n",
    "        if 'percent' in col:\n",
    "            if row[col] < 0 or row[col] > 100:\n",
    "                print(col)\n",
    "                print(index)\n",
    "                print(row[col])\n",
    "                print(row[\"SA12018_V1_00\"])\n",
    "    "
   ]
  },
  {
   "cell_type": "markdown",
   "id": "ad99532a-a18f-4be6-80d9-670892c0ac05",
   "metadata": {},
   "source": [
    "count = 69; denom = 66"
   ]
  },
  {
   "cell_type": "code",
   "execution_count": 60,
   "id": "4edb62aa-0324-4e91-85c6-05be1b1d0cd2",
   "metadata": {},
   "outputs": [],
   "source": [
    "df.at[df.index[23827],'SVI18_o60yEuropean_percent'] = 100.0\n",
    "df.at[df.index[23828],'SVI18_o60yEuropean_percent'] = 100.0\n",
    "df.at[df.index[23829],'SVI18_o60yEuropean_percent'] = 100.0"
   ]
  },
  {
   "cell_type": "code",
   "execution_count": 61,
   "id": "c0939aeb-822c-459f-9c4b-112c4bdb9588",
   "metadata": {},
   "outputs": [],
   "source": [
    "cols = df.columns\n",
    "for index, row in df.iterrows():\n",
    "    for col in cols:\n",
    "        if 'percent' in col:\n",
    "            if row[col] < 0 or row[col] > 100:\n",
    "                print(col)\n",
    "                print(index)\n",
    "                print(row[col])\n",
    "                print(row[\"SA12018_V1_00\"])\n",
    "    "
   ]
  },
  {
   "cell_type": "code",
   "execution_count": 43,
   "id": "7deaa3d7-b69e-4094-971e-747741f27eb0",
   "metadata": {},
   "outputs": [],
   "source": [
    "for index, row in df.iterrows():\n",
    "    for col in cols:\n",
    "        if 'Prp' in col:\n",
    "            if row[col] < 0 or row[col] > 100:\n",
    "                print(col)\n",
    "                print(index)\n",
    "                print(row[col])"
   ]
  },
  {
   "cell_type": "code",
   "execution_count": 63,
   "id": "cd714a5a-7914-4f7b-b658-f7be94a4b4de",
   "metadata": {},
   "outputs": [],
   "source": [
    "df = df.drop('SA12018_V1', axis = 1)\n"
   ]
  },
  {
   "cell_type": "code",
   "execution_count": 66,
   "id": "8b01f09d-3ee5-4c01-bf7c-fdd42adb2011",
   "metadata": {},
   "outputs": [],
   "source": [
    "df.to_csv('NZ_Data/integrated_checked.csv')"
   ]
  },
  {
   "cell_type": "markdown",
   "id": "9f0726a7-9f92-4ff2-97ba-f5809c26f59a",
   "metadata": {
    "tags": []
   },
   "source": [
    "#### Check that SA1 Codes are Unique"
   ]
  },
  {
   "cell_type": "code",
   "execution_count": 40,
   "id": "1b8d8585-2883-47ae-89ad-8e867f2e513e",
   "metadata": {},
   "outputs": [],
   "source": [
    "lst = list(df['SA12018_V1_00'])"
   ]
  },
  {
   "cell_type": "code",
   "execution_count": 41,
   "id": "1327de26-9ae1-42da-ad15-0393e9a13d09",
   "metadata": {},
   "outputs": [],
   "source": [
    "st = set(lst)"
   ]
  },
  {
   "cell_type": "code",
   "execution_count": 42,
   "id": "6a8117f1-ed94-4b9b-b2ff-a6aa1c43ec77",
   "metadata": {},
   "outputs": [
    {
     "data": {
      "text/plain": [
       "True"
      ]
     },
     "execution_count": 42,
     "metadata": {},
     "output_type": "execute_result"
    }
   ],
   "source": [
    "len(lst) == len(st)"
   ]
  },
  {
   "cell_type": "markdown",
   "id": "d2959e5a-2686-4bdc-bc15-6803a76dbf31",
   "metadata": {},
   "source": [
    "#### Next step is visual checks"
   ]
  },
  {
   "cell_type": "code",
   "execution_count": 58,
   "id": "9c934148-95ef-4a84-b491-00d0d5dfc50b",
   "metadata": {},
   "outputs": [
    {
     "data": {
      "text/plain": [
       "nan"
      ]
     },
     "execution_count": 58,
     "metadata": {},
     "output_type": "execute_result"
    }
   ],
   "source": [
    "df.at[df.index[29872],'C18_OccPrivDwelDamp_TotalWith']"
   ]
  },
  {
   "cell_type": "code",
   "execution_count": 57,
   "id": "ab882214-bf22-457b-ab5c-13ca409b8e49",
   "metadata": {},
   "outputs": [
    {
     "data": {
      "text/plain": [
       "7029872"
      ]
     },
     "execution_count": 57,
     "metadata": {},
     "output_type": "execute_result"
    }
   ],
   "source": [
    "df.at[df.index[29872],'SA12018_V1_00']"
   ]
  },
  {
   "cell_type": "code",
   "execution_count": 52,
   "id": "4a522cb0-e783-4604-8d9d-61b2adc5d40e",
   "metadata": {},
   "outputs": [],
   "source": [
    "C18_D = pd.read_csv('NZ_Data/NZ_2018_census_data/2018_Census_Dwelling_data_by_SA1.csv')"
   ]
  },
  {
   "cell_type": "code",
   "execution_count": 53,
   "id": "70157a35-4b54-4ca3-bc40-78b0c9a46fb8",
   "metadata": {},
   "outputs": [
    {
     "data": {
      "text/plain": [
       "-999"
      ]
     },
     "execution_count": 53,
     "metadata": {},
     "output_type": "execute_result"
    }
   ],
   "source": [
    "C18_D.at[C18_D.index[29871],'C18_OccPrivDwelDamp_TotalWith']"
   ]
  },
  {
   "cell_type": "code",
   "execution_count": 55,
   "id": "1ba9e05a-52cc-4e30-b5b4-34cf53465dca",
   "metadata": {},
   "outputs": [
    {
     "data": {
      "text/plain": [
       "7029872"
      ]
     },
     "execution_count": 55,
     "metadata": {},
     "output_type": "execute_result"
    }
   ],
   "source": [
    "C18_D.at[C18_D.index[29871],'SA12018_V1_00']"
   ]
  },
  {
   "cell_type": "markdown",
   "id": "e23e867b-9a87-4cff-8662-02fe477c769d",
   "metadata": {},
   "source": [
    "There were some differences between the map of dwelling's with dampness between the original data and the integrated data. However, this is because the -999 values in the integrated dataframe were converted to NaN which makes the integrated map MORE accurate."
   ]
  },
  {
   "cell_type": "markdown",
   "id": "e5c31efb-a39c-456a-914c-cd89b1cdaa7c",
   "metadata": {},
   "source": [
    "The map of SVI data for single parent households seemed to be accurate."
   ]
  },
  {
   "cell_type": "markdown",
   "id": "b65846de-49a3-4d3e-bff8-afd20f779acf",
   "metadata": {},
   "source": [
    "From a cursory look, NZDep2018 map seems to be accurate as well."
   ]
  },
  {
   "cell_type": "markdown",
   "id": "91799f2a-1c11-4ae0-bf43-52da7a5b603c",
   "metadata": {},
   "source": [
    "I don't have anything to compare it too, but the 2022 industry data looks like I expected it to on a map"
   ]
  },
  {
   "cell_type": "code",
   "execution_count": null,
   "id": "99eb05f9-6fd0-4728-8629-f4c3de3e3d6c",
   "metadata": {},
   "outputs": [],
   "source": []
  }
 ],
 "metadata": {
  "kernelspec": {
   "display_name": "Python 3 (ipykernel)",
   "language": "python",
   "name": "python3"
  },
  "language_info": {
   "codemirror_mode": {
    "name": "ipython",
    "version": 3
   },
   "file_extension": ".py",
   "mimetype": "text/x-python",
   "name": "python",
   "nbconvert_exporter": "python",
   "pygments_lexer": "ipython3",
   "version": "3.10.9"
  }
 },
 "nbformat": 4,
 "nbformat_minor": 5
}

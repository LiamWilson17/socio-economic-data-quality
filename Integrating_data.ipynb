{
 "cells": [
  {
   "cell_type": "code",
   "execution_count": 26,
   "id": "1a0dbccd-5e82-4e44-88ec-341eacca0cbf",
   "metadata": {},
   "outputs": [],
   "source": [
    "import pandas as pd\n",
    "import numpy as np"
   ]
  },
  {
   "cell_type": "markdown",
   "id": "c2487027-6f69-45c4-9954-89fed0e378ae",
   "metadata": {},
   "source": [
    "I'll start by Integrating the 2018 Census Datasets together."
   ]
  },
  {
   "cell_type": "code",
   "execution_count": 5,
   "id": "a570e549-a881-4098-a72a-5502039c3e69",
   "metadata": {},
   "outputs": [],
   "source": [
    "# read in all 6 2018 Census Datasets\n",
    "C18_I1 = pd.read_csv('NZ_Data/NZ_2018_census_data/2018_Census_Individual_part_1_data_by_SA1_.csv')\n",
    "C18_I2 = pd.read_csv('NZ_Data/NZ_2018_census_data/2018_Census_Individual_part_2_data_by_SA1_.csv')\n",
    "C18_I3a = pd.read_csv('NZ_Data/NZ_2018_census_data/2018_Census_Individual_part_3a_data_by_SA1_.csv')\n",
    "C18_I3b = pd.read_csv('NZ_Data/NZ_2018_census_data/2018_Census_Individual_part_3b_data_by_SA1_.csv')\n",
    "C18_HH = pd.read_csv('NZ_Data/NZ_2018_census_data/2018_Census_Household_data_by_SA1.csv')\n",
    "C18_D = pd.read_csv('NZ_Data/NZ_2018_census_data/2018_Census_Dwelling_data_by_SA1.csv')"
   ]
  },
  {
   "cell_type": "code",
   "execution_count": 12,
   "id": "b0884729-1bbe-40e3-9dc4-647f6aef4aea",
   "metadata": {},
   "outputs": [],
   "source": [
    "# merge all of the datasets on the SA12018_V1_00 column\n",
    "dfs = [C18_I1, C18_I2, C18_I3a, C18_I3b, C18_HH, C18_D]\n",
    "\n",
    "C18 = pd.concat(dfs, join='inner', axis=1)"
   ]
  },
  {
   "cell_type": "code",
   "execution_count": 22,
   "id": "6672eb14-7c51-41a3-a669-938e28ac3384",
   "metadata": {},
   "outputs": [],
   "source": [
    "# remove redundant columns\n",
    "df = C18\n",
    "df = df.loc[:, ~df.columns.duplicated(keep='first')]\n",
    "df = df.drop(['Shape__Area', 'Shape__Length'], axis= 1)"
   ]
  },
  {
   "cell_type": "code",
   "execution_count": 32,
   "id": "6fc2ebb8-bb59-476e-ad8b-1fcb39c94319",
   "metadata": {},
   "outputs": [],
   "source": [
    "# replace negative values with NaN\n",
    "df_numeric = df.select_dtypes(include=[np.number])\n",
    "df_numeric = df_numeric.where(lambda x: x > 0, np.nan)"
   ]
  },
  {
   "cell_type": "code",
   "execution_count": 33,
   "id": "b121f882-245d-460f-83a1-ae3d0efc8a6e",
   "metadata": {},
   "outputs": [],
   "source": [
    "numeric_cols = df_numeric.columns.values\n",
    "df = df.drop(columns=numeric_cols)\n",
    "df = pd.concat([df, df_numeric], axis = 1)"
   ]
  },
  {
   "cell_type": "code",
   "execution_count": 37,
   "id": "d50f920e-ae69-4d7f-a85c-70ffeb68c9b2",
   "metadata": {},
   "outputs": [],
   "source": [
    "# this is the complete clean 2018 Census Dataset\n",
    "C18 = df"
   ]
  },
  {
   "cell_type": "markdown",
   "id": "5d2e0b09-decd-4c25-a085-941c9e56c2ad",
   "metadata": {
    "tags": []
   },
   "source": [
    "Now we need to integrate the NZDep2018 data with the 2018 Census data"
   ]
  },
  {
   "cell_type": "code",
   "execution_count": 38,
   "id": "db6a2d51-6dad-46bc-9a04-9046930c8997",
   "metadata": {},
   "outputs": [],
   "source": [
    "# read in the NZDep2018 Data\n",
    "NZDep18 = pd.read_csv('NZ_Data/EHINZ_data/nzdep2018-statistical-area-1-sa1-data-730395.csv')"
   ]
  },
  {
   "cell_type": "code",
   "execution_count": 46,
   "id": "f2802967-a177-4ce9-8d72-7829bb64ea79",
   "metadata": {},
   "outputs": [],
   "source": [
    "# Merge this data with the 2018 Census Data and drop the redundant column\n",
    "Integrated_df = pd.merge(C18, NZDep18, how='outer', left_on='SA12018_V1_00', right_on='SA12018_code')\n",
    "Integrated_df = Integrated_df.drop('SA12018_code', axis = 1)"
   ]
  },
  {
   "cell_type": "markdown",
   "id": "8c40b93f-cc5a-4ef0-94b1-507bddbb63b9",
   "metadata": {},
   "source": [
    "Now we need to prepare the Social Vulnerability Indicator Data to be integrated"
   ]
  },
  {
   "cell_type": "code",
   "execution_count": 72,
   "id": "92e8988f-6b22-46fd-98c5-d1a8139860ee",
   "metadata": {},
   "outputs": [],
   "source": [
    "# read in the dataframe\n",
    "SVI18 = pd.read_csv('NZ_Data/EHINZ_data/SA2_svi.csv',low_memory=False)"
   ]
  },
  {
   "cell_type": "markdown",
   "id": "2b84c542-ca44-428e-bf14-d818af62c002",
   "metadata": {},
   "source": [
    "I want to drop every count and denom column and remove redundent columns. I also want to prepend 'SVI18_' to each column name"
   ]
  },
  {
   "cell_type": "code",
   "execution_count": 73,
   "id": "5e473b4c-b3a3-41a6-a65c-6f563e4c994c",
   "metadata": {},
   "outputs": [],
   "source": [
    "cols = list(SVI18.columns)"
   ]
  },
  {
   "cell_type": "code",
   "execution_count": 74,
   "id": "13691b3b-b5d7-406d-a536-a966dfbbed4c",
   "metadata": {},
   "outputs": [],
   "source": [
    "to_drop = ['SVI18_Unnamed: 0', 'SVI18_SA2 code.1', 'SVI18_URPop', 'SVI18_households']\n",
    "for i in range(0,len(cols)):\n",
    "    cols[i] = 'SVI18_' + cols[i].strip()\n",
    "    if \"count\" in cols[i] or \"denom\" in cols[i] or 'total' in cols[i] or 'unknown' in cols[i]:\n",
    "        to_drop.append(cols[i])"
   ]
  },
  {
   "cell_type": "code",
   "execution_count": 75,
   "id": "335c35b0-91d3-4f23-842e-a6f0408b4f91",
   "metadata": {},
   "outputs": [],
   "source": [
    "SVI18.columns = cols\n",
    "df = SVI18\n",
    "df = df.drop(to_drop, axis=1)"
   ]
  },
  {
   "cell_type": "code",
   "execution_count": 88,
   "id": "19ad541e-45e4-4196-a413-e2370ae17241",
   "metadata": {},
   "outputs": [],
   "source": [
    "df = df.drop(2145)"
   ]
  },
  {
   "cell_type": "code",
   "execution_count": 89,
   "id": "43530194-adad-4fa2-b2e9-2b821f949eb5",
   "metadata": {},
   "outputs": [],
   "source": [
    "SVI18 = df"
   ]
  },
  {
   "cell_type": "code",
   "execution_count": 92,
   "id": "ee1cf6ea-1aa4-465f-ae34-d16565c45353",
   "metadata": {},
   "outputs": [],
   "source": [
    "codes = list(SVI18['SVI18_SA2 code'])\n",
    "for i in range(0, len(codes)):\n",
    "    codes[i] = int(codes[i])"
   ]
  },
  {
   "cell_type": "code",
   "execution_count": 93,
   "id": "fee9ba54-051e-4c25-822c-f0dbce1ab2ba",
   "metadata": {},
   "outputs": [],
   "source": [
    "SVI18['SVI18_SA2_code'] = codes"
   ]
  },
  {
   "cell_type": "code",
   "execution_count": 95,
   "id": "633f6f76-61f0-4a9f-b748-46498b39687f",
   "metadata": {},
   "outputs": [],
   "source": [
    "df = pd.merge(Integrated_df, SVI18, left_on='SA22018_code', right_on='SVI18_SA2_code', how='outer', validate='m:1')"
   ]
  },
  {
   "cell_type": "code",
   "execution_count": 98,
   "id": "4d5512b1-a879-4441-9df2-8f1011620766",
   "metadata": {},
   "outputs": [],
   "source": [
    "df = df.drop('SVI18_SA2 code', axis=1)"
   ]
  },
  {
   "cell_type": "code",
   "execution_count": 99,
   "id": "e37aba40-aac3-484b-b028-e7011086100e",
   "metadata": {},
   "outputs": [],
   "source": [
    "Integrated_df = df"
   ]
  },
  {
   "cell_type": "markdown",
   "id": "2083e001-cad8-4fa0-92c0-c31819d06823",
   "metadata": {},
   "source": [
    "Last, we need to prepare the Industry 2022 Data"
   ]
  },
  {
   "cell_type": "code",
   "execution_count": 101,
   "id": "f993a2ac-5302-4c2b-b024-9c7e7590218a",
   "metadata": {},
   "outputs": [],
   "source": [
    "# import the data\n",
    "IND2022 = pd.read_csv('NZ_Data/economic_data/JOB12570_BD_NZ_sa1_ind6_sizegrp_2022.csv', low_memory=False)"
   ]
  },
  {
   "cell_type": "code",
   "execution_count": 103,
   "id": "d52ef7c5-b1d5-40d2-9e09-72d7583d11d5",
   "metadata": {},
   "outputs": [],
   "source": [
    "df = IND2022"
   ]
  },
  {
   "cell_type": "code",
   "execution_count": 108,
   "id": "b55d7ec3-87eb-447d-a6c0-762cd8d650a4",
   "metadata": {},
   "outputs": [],
   "source": [
    "df = df.drop(df[df['ANZSIC06_Code'] == 'Total'].index).drop(df[df['Geography_Code'] == 'Total'].index).reset_index(drop=True)"
   ]
  },
  {
   "cell_type": "code",
   "execution_count": 123,
   "id": "aaac8624-a47f-43ad-907b-1ddbf1e71854",
   "metadata": {
    "tags": []
   },
   "outputs": [],
   "source": [
    "col_list = ['SA1_code', 'A', 'B', 'C', 'D', 'E', 'F', 'G', 'H', 'I', 'J', 'K', 'L', 'M', 'N', 'O', 'P', 'Q', 'R', 'S']\n",
    "d = {}\n",
    "codes = list(set(df['Geography_Code']))\n",
    "length = len(codes)\n",
    "for i in col_list:\n",
    "    d[i] = np.full(shape=length, fill_value=np.nan)"
   ]
  },
  {
   "cell_type": "code",
   "execution_count": 124,
   "id": "f4fc3327-a15b-4124-a37c-8881a5133b86",
   "metadata": {
    "tags": []
   },
   "outputs": [],
   "source": [
    "for i in range(0, length):\n",
    "    codes[i] = int(codes[i])\n",
    "    \n",
    "codes = sorted(codes)"
   ]
  },
  {
   "cell_type": "code",
   "execution_count": 125,
   "id": "b07bf2d3-b5e6-48b5-8df6-f0ed7331e96f",
   "metadata": {},
   "outputs": [],
   "source": [
    "d['SA1_code'] = codes"
   ]
  },
  {
   "cell_type": "code",
   "execution_count": 130,
   "id": "f025d7ca-5f09-4f56-a382-a6077edc6768",
   "metadata": {},
   "outputs": [],
   "source": [
    "# iterate through the rows of the df\n",
    "i = 0\n",
    "code = codes[i]\n",
    "for index, row in df.iterrows():\n",
    "    if int(row['Geography_Code']) == code:\n",
    "        division = row['ANZSIC06_Code'][0]\n",
    "        if np.isnan(d[division][i]):\n",
    "            d[division][i] = row['Employee_Count']\n",
    "        else:\n",
    "            d[division][i] = d[division][i] + row['Employee_Count']\n",
    "    else:\n",
    "        i = i + 1\n",
    "        code = codes[i]\n",
    "        division = row['ANZSIC06_Code'][0]\n",
    "        if np.isnan(d[division][i]):\n",
    "            d[division][i] = row['Employee_Count']\n",
    "        else:\n",
    "            d[division][i] = d[division][i] + row['Employee_Count']"
   ]
  },
  {
   "cell_type": "code",
   "execution_count": 134,
   "id": "257d9b3a-5bd2-4808-984f-0c1248a685fe",
   "metadata": {},
   "outputs": [],
   "source": [
    "df2 = pd.DataFrame.from_dict(d)"
   ]
  },
  {
   "cell_type": "markdown",
   "id": "fa8a0a31-2fb6-4547-b1c0-015476641218",
   "metadata": {},
   "source": [
    "Now that we have the dataframe with the desired data (total employee counts in each industry division by SA1 district, lets rename the columns to make it more understandable"
   ]
  },
  {
   "cell_type": "code",
   "execution_count": 139,
   "id": "3354173b-3bdd-4ec4-bae1-2a81609782bf",
   "metadata": {},
   "outputs": [],
   "source": [
    "new_names = ['SA1_code', 'A_Agr', 'B_Mining', 'C_Manufact', 'D_Electric', 'E_Constr', 'F_Wholesale_Tr','G_Retail_Tr', 'H_Accomodat_Food', 'I_Trans_Post_Warehouse', 'J_Info_Media_Telecom',\n",
    "             'K_Finance_Insure', 'L_Rent_Hire_RealEst', 'M_Proff_Scien_Tech', 'N_Admin_Support', 'O_Public_Admin_Safe', 'P_Edu_Train', 'Q_Health_Soc_Serve', 'R_Art_Rec', 'S_Other']\n",
    "# Add Ind22_ to beginning of each col name\n",
    "for i in range(1, len(new_names)):\n",
    "    new_names[i] = 'Ind22_' + new_names[i]"
   ]
  },
  {
   "cell_type": "code",
   "execution_count": 141,
   "id": "3708af3e-2eb3-4997-9c1e-24fbf584d0be",
   "metadata": {},
   "outputs": [],
   "source": [
    "df2.columns = new_names"
   ]
  },
  {
   "cell_type": "code",
   "execution_count": 143,
   "id": "151f53b1-65d8-4c4e-bf5b-71e8023d5c1f",
   "metadata": {},
   "outputs": [],
   "source": [
    "IND2022 = df2"
   ]
  },
  {
   "cell_type": "markdown",
   "id": "d4a1f0af-b6db-49db-9f0a-44c1b8f98872",
   "metadata": {},
   "source": [
    "Now it is time to merge the final dataframe with the rest"
   ]
  },
  {
   "cell_type": "code",
   "execution_count": 160,
   "id": "fc118ea5-c8ba-4f35-b16d-41a4d34b0894",
   "metadata": {},
   "outputs": [],
   "source": [
    "df3 = pd.merge(Integrated_df, IND2022, left_on='SA12018_V1_00', right_on='SA1_code', how='outer', indicator=True)"
   ]
  },
  {
   "cell_type": "code",
   "execution_count": 165,
   "id": "b7d2faa3-5f34-4a79-af38-3b0bdbfb0c6f",
   "metadata": {},
   "outputs": [],
   "source": [
    "ind = list(df3['_merge'])\n",
    "for i in range(0, len(ind)):\n",
    "    if ind[i] == 'left_only':\n",
    "        ind[i] = '2018'\n",
    "df3[\"Year\"] = ind"
   ]
  },
  {
   "cell_type": "code",
   "execution_count": 167,
   "id": "47f9519b-51f6-4a19-9617-5dbd9f35f4d5",
   "metadata": {},
   "outputs": [],
   "source": [
    "df3 = df3.drop('_merge', axis=1)"
   ]
  },
  {
   "cell_type": "code",
   "execution_count": 169,
   "id": "f7c28d6c-f452-45e1-bd25-f567163dc3c6",
   "metadata": {},
   "outputs": [],
   "source": [
    "Integrated_df = df3"
   ]
  },
  {
   "cell_type": "code",
   "execution_count": null,
   "id": "feb9da3d-d9c5-4e94-91e7-66a3a13249c1",
   "metadata": {},
   "outputs": [],
   "source": [
    "# drop broad birth place data becuase there is none\n",
    "to_drop = ['C18_Birthpl_Brd_NZ','C18_Birthpl_Brd_Australia','C18_Birthpl_Brd_Pacific_Is','C18_Birthpl_Brd_UK_and_Ireland', 'C18_Birthpl_Brd_Europe','C18_Birthpl_Brd_North_America',\n",
    "            'C18_Birthpl_Brd_Asia', 'C18_Birthpl_Brd_MidEast_Africa', 'C18_Birthpl_Brd_Other', 'C18_Birthpl_Brd_Total_stated', 'C18_Birthpl_Brd_NEI', 'C18_Birthpl_Brd_Total']\n",
    "df = df.drop(to_drop, axis = 1)"
   ]
  },
  {
   "cell_type": "code",
   "execution_count": 170,
   "id": "0d311f98-6bd4-4187-a13b-2bb81c343c5e",
   "metadata": {},
   "outputs": [],
   "source": [
    "Integrated_df.to_csv('NZ_Data/integrated_data.csv')"
   ]
  }
 ],
 "metadata": {
  "kernelspec": {
   "display_name": "Python 3 (ipykernel)",
   "language": "python",
   "name": "python3"
  },
  "language_info": {
   "codemirror_mode": {
    "name": "ipython",
    "version": 3
   },
   "file_extension": ".py",
   "mimetype": "text/x-python",
   "name": "python",
   "nbconvert_exporter": "python",
   "pygments_lexer": "ipython3",
   "version": "3.10.9"
  }
 },
 "nbformat": 4,
 "nbformat_minor": 5
}

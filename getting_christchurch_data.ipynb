{
 "cells": [
  {
   "cell_type": "code",
   "execution_count": 12,
   "id": "6cca7d7e-19ee-4919-ba98-5476b21af0bb",
   "metadata": {},
   "outputs": [],
   "source": [
    "import pandas as pd\n",
    "import geopandas as gpd\n",
    "import numbers\n",
    "import numpy as np"
   ]
  },
  {
   "cell_type": "markdown",
   "id": "97787927-4e3e-4cd7-9706-51dd4c1c8891",
   "metadata": {},
   "source": [
    "Read in the integrated dataset"
   ]
  },
  {
   "cell_type": "code",
   "execution_count": 70,
   "id": "19df714c-3b8a-42c8-b455-3f675ae6d908",
   "metadata": {},
   "outputs": [],
   "source": [
    "df = pd.read_csv('../NZ_Data/integrated/modified_integrated.csv')"
   ]
  },
  {
   "cell_type": "markdown",
   "id": "6f01c05b-8ed0-4822-8a36-c468b242ad59",
   "metadata": {},
   "source": [
    "Read in the Statistical Area 1 shapefile and convert the SA1 codes to integers."
   ]
  },
  {
   "cell_type": "code",
   "execution_count": 76,
   "id": "313b1c63",
   "metadata": {},
   "outputs": [],
   "source": [
    "shape = gpd.read_file('../QGIS/statsnz-statistical-area-1-2018-generalised-SHP/statistical-area-1-2018-generalised.shp')"
   ]
  },
  {
   "cell_type": "code",
   "execution_count": 78,
   "id": "199a9db1",
   "metadata": {},
   "outputs": [],
   "source": [
    "lst = list(shape['SA12018_V1'])\n",
    "for i in range(0,len(lst)):\n",
    "    lst[i] = int(lst[i])"
   ]
  },
  {
   "cell_type": "code",
   "execution_count": 80,
   "id": "c89e1e79",
   "metadata": {},
   "outputs": [],
   "source": [
    "shape['SA12018_V1'] = lst"
   ]
  },
  {
   "cell_type": "markdown",
   "id": "3db3b222-3f42-4015-a707-4b4e44f0eb32",
   "metadata": {},
   "source": [
    "Read in the SA2 codes of areas in Christchurch"
   ]
  },
  {
   "cell_type": "code",
   "execution_count": 82,
   "id": "e56a19cd",
   "metadata": {},
   "outputs": [],
   "source": [
    "# SA2 codes\n",
    "sa2 = list(set([316400,316500,316600,316700,316800,316900,317000,317100,317200,317300,317400,317500,317600,317700,\n",
    "       317800,317900,318000,318200,318300,318400,318500,318600,318700,318800,318900,319000,319100,319200,\n",
    "       319300,319400,319500,319600,319700,319800,319900,320000,320100,320200,320300,320400,320500,320600,\n",
    "       320700,320800,320900,321000,321100,321200,321300,321400,321500,321600,321700,321800,321900,322000,\n",
    "       322100,322200,322300,322400,322500,322600,322700,322800,322900,323000,323100,323100,323200,323300,\n",
    "       323400,323500,323600,323700,323800,323900,324000,324200,324300,324400,324500,324600,324700,324800,\n",
    "       324900,325000,325100,325200,325300,325400,325500,325600,325700,325800,325900,326000,326100,326200,\n",
    "       326300,326400,326500,326600,326700,326800,326900,327000,327100,327200,327300,327400,327500,327600,\n",
    "       327700,327800,327900,328000,328100,328200,328300,328400,328500,328600,328700,328800,328900,329000,\n",
    "       329100,329200,329300,329400,329500,329600,329700,329800,329900,330000,330100,330200,330300,330400,\n",
    "       330500,330600,330700,330800,330900,331000,331200,331300,331400,331500,331600,331700,331800,331900,\n",
    "       332000,332100,332400,332700,318100,324100,331100,326200]))"
   ]
  },
  {
   "cell_type": "code",
   "execution_count": 84,
   "id": "000faf40",
   "metadata": {},
   "outputs": [],
   "source": [
    "df2 = pd.DataFrame(sa2, columns=['SA2'])"
   ]
  },
  {
   "cell_type": "code",
   "execution_count": 86,
   "id": "dc256a3f",
   "metadata": {},
   "outputs": [],
   "source": [
    "df3 = pd.merge(df, df2, left_on='SA22018_code', right_on='SA2', how='right', validate='m:1')"
   ]
  },
  {
   "cell_type": "code",
   "execution_count": 88,
   "id": "bd6b4420",
   "metadata": {},
   "outputs": [],
   "source": [
    "df3 = df3.drop(['Unnamed: 0', 'SA2'], axis = 1)"
   ]
  },
  {
   "cell_type": "code",
   "execution_count": 113,
   "id": "8f5d84e7",
   "metadata": {},
   "outputs": [],
   "source": [
    "df3.to_csv('../NZ_Data/case_study/christchurch/cc_data.csv')"
   ]
  },
  {
   "cell_type": "markdown",
   "id": "1023d05f-a848-40e6-a795-575c97ea34f9",
   "metadata": {},
   "source": [
    "Merge the shapefile with the christchurch data to make the geojson export "
   ]
  },
  {
   "cell_type": "code",
   "execution_count": 115,
   "id": "d0c272ba",
   "metadata": {},
   "outputs": [],
   "source": [
    "gdf = shape.merge(df3, how='inner', left_on = 'SA12018_V1', right_on = 'SA12018_V1_00')"
   ]
  },
  {
   "cell_type": "code",
   "execution_count": 117,
   "id": "31101f13",
   "metadata": {},
   "outputs": [],
   "source": [
    "gdf = gdf.drop(['SA12018_V1_00'], axis = 1)"
   ]
  },
  {
   "cell_type": "code",
   "execution_count": 119,
   "id": "e492d772",
   "metadata": {},
   "outputs": [],
   "source": [
    "# remove redundant columns\n",
    "gdf = gdf.loc[:, ~gdf.columns.duplicated(keep='first')]"
   ]
  },
  {
   "cell_type": "code",
   "execution_count": 121,
   "id": "65b1406e",
   "metadata": {},
   "outputs": [],
   "source": [
    "gdf.to_file('../NZ_Data/case_study/christchurch/cc_data.geojson', driver='GeoJSON')"
   ]
  },
  {
   "cell_type": "markdown",
   "id": "879f170c-3cd4-41d7-8e47-06cc1d900745",
   "metadata": {},
   "source": [
    "Get the total number of industrial buildings in each SA1 area"
   ]
  },
  {
   "cell_type": "code",
   "execution_count": 107,
   "id": "db179000-7b31-431b-9e70-651a2711472e",
   "metadata": {},
   "outputs": [],
   "source": [
    "cols = [x for x in df3.columns if 'Ind22' in x]"
   ]
  },
  {
   "cell_type": "code",
   "execution_count": 109,
   "id": "168fa770",
   "metadata": {},
   "outputs": [],
   "source": [
    "total_ind = []\n",
    "for index, row in df3.iterrows():\n",
    "    indsum = 0\n",
    "    for i in cols:\n",
    "        if not np.isnan(row[i]):\n",
    "            indsum = indsum + row[i]\n",
    "    total_ind.append(indsum)"
   ]
  },
  {
   "cell_type": "code",
   "execution_count": 111,
   "id": "63ac8115",
   "metadata": {},
   "outputs": [],
   "source": [
    "df3['Ind22_totals'] = total_ind"
   ]
  }
 ],
 "metadata": {
  "kernelspec": {
   "display_name": "Python 3 (ipykernel)",
   "language": "python",
   "name": "python3"
  },
  "language_info": {
   "codemirror_mode": {
    "name": "ipython",
    "version": 3
   },
   "file_extension": ".py",
   "mimetype": "text/x-python",
   "name": "python",
   "nbconvert_exporter": "python",
   "pygments_lexer": "ipython3",
   "version": "3.10.9"
  }
 },
 "nbformat": 4,
 "nbformat_minor": 5
}

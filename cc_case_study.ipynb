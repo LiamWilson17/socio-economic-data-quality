{
 "cells": [
  {
   "cell_type": "code",
   "execution_count": 2,
   "id": "6f65794f-70e0-470f-93f0-039efb808e79",
   "metadata": {},
   "outputs": [],
   "source": [
    "import pandas as pd\n",
    "import geopandas as gpd\n",
    "import numpy as np\n",
    "import math"
   ]
  },
  {
   "cell_type": "markdown",
   "id": "d658ca9b-5a30-4611-a3bd-b57a27a15a65",
   "metadata": {},
   "source": [
    "## Tsunami in Christchurch Case Study Code"
   ]
  },
  {
   "cell_type": "markdown",
   "id": "53a8ec90-ef1b-4841-aeab-0ff1f6fade23",
   "metadata": {},
   "source": [
    "Import important dataframes:  \n",
    "- *outlines*: New Zealand building outlines\n",
    "- *cc_affected*: affected SA1 areas in Christchurch"
   ]
  },
  {
   "cell_type": "code",
   "execution_count": null,
   "id": "d6c7d280-5909-4e35-ae27-1ba0b0caefbf",
   "metadata": {},
   "outputs": [],
   "source": [
    "outlines = gpd.read_file('../QGIS/lds-nz-building-outlines-SHP_2/nz-building-outlines.shp')"
   ]
  },
  {
   "cell_type": "code",
   "execution_count": 768,
   "id": "d6259b5c-b0cd-4fab-8dcd-8eb98ae90b2f",
   "metadata": {},
   "outputs": [],
   "source": [
    "cc_affected = gpd.read_file('../NZ_Data/case_study/christchurch/cc_affected.geojson')"
   ]
  },
  {
   "cell_type": "markdown",
   "id": "1003f988-5a72-4651-8370-d4999cb633f3",
   "metadata": {},
   "source": [
    "<a id='joined_cell'></a>\n",
    "**joined:** Spatial join the buildings outlines data and the affected SA1 areas in Christchurch  \n",
    "export joined to csv and geojson as *cc_affected_buildings.csv* and *cc_affected_buildings.geojson*  "
   ]
  },
  {
   "cell_type": "code",
   "execution_count": 770,
   "id": "d8672f19-5209-4b73-9e8b-1d84fd43bd71",
   "metadata": {},
   "outputs": [],
   "source": [
    "joined = gpd.sjoin(cc_affected, outlines, how = 'inner')"
   ]
  },
  {
   "cell_type": "code",
   "execution_count": 772,
   "id": "62776745-309a-4472-ac4c-a02d0cb70335",
   "metadata": {},
   "outputs": [],
   "source": [
    "joined.to_csv('../NZ_Data/case_study/christchurch/cc_affected_buildings.csv')"
   ]
  },
  {
   "cell_type": "code",
   "execution_count": 773,
   "id": "5092775c-366f-4152-98be-5fa51c27f663",
   "metadata": {},
   "outputs": [],
   "source": [
    "joined.to_file('../NZ_Data/case_study/christchurch/cc_affected_buildings.geojson', driver='GeoJSON')"
   ]
  },
  {
   "cell_type": "markdown",
   "id": "86b40559-cb42-4d28-943c-de8420b55d95",
   "metadata": {},
   "source": [
    "Import the rating units data as *rating_units*"
   ]
  },
  {
   "cell_type": "code",
   "execution_count": 48,
   "id": "e070abab-2246-4401-a2ce-16f84ef829bf",
   "metadata": {},
   "outputs": [],
   "source": [
    "rating_units = gpd.read_file('../NZ_Data/case_study/Rating_Units/Rating_Units.shp')"
   ]
  },
  {
   "cell_type": "markdown",
   "id": "569a1212-f5e7-4264-9cfa-55661d0ddb0b",
   "metadata": {},
   "source": [
    "#### Use Peninsula as smaller scale"
   ]
  },
  {
   "cell_type": "markdown",
   "id": "52f40705-44e6-4301-a4be-14f215c4aeb2",
   "metadata": {},
   "source": [
    "I first did a population risk assessment on the peninsula to check that everything worked."
   ]
  },
  {
   "cell_type": "code",
   "execution_count": 10,
   "id": "eb95a69d-070f-463b-9de6-37e43fecdc7c",
   "metadata": {},
   "outputs": [],
   "source": [
    "peninsula_sa2 = 331700"
   ]
  },
  {
   "cell_type": "code",
   "execution_count": 12,
   "id": "fab3bb9c-e424-48ff-b47f-b7d28560976f",
   "metadata": {},
   "outputs": [],
   "source": [
    "peninsula = joined[joined['SA22018_code'] == peninsula_sa2]"
   ]
  },
  {
   "cell_type": "code",
   "execution_count": 14,
   "id": "b205af6d-fb6f-4423-8c05-054683f9117d",
   "metadata": {},
   "outputs": [],
   "source": [
    "# get SA1 districts\n",
    "sa1 = list(set(peninsula['SA12018_V1']))"
   ]
  },
  {
   "cell_type": "markdown",
   "id": "dafd8ec1-8ed8-4d1a-990e-99fd252eab6c",
   "metadata": {},
   "source": [
    "Distribute population at building level for day and night"
   ]
  },
  {
   "cell_type": "code",
   "execution_count": 17,
   "id": "ce176819-8cfb-4a8d-b174-85a8fdc54a19",
   "metadata": {},
   "outputs": [],
   "source": [
    "# spilt population between houses equally\n",
    "# get the number of buildings in each sa1\n",
    "lst = list(peninsula['SA12018_V1'])\n",
    "num_house = {}\n",
    "for l in lst:\n",
    "    if l in num_house:\n",
    "        num_house[l] = num_house[l] + 1\n",
    "    else:\n",
    "        num_house[l] = 0"
   ]
  },
  {
   "cell_type": "code",
   "execution_count": 19,
   "id": "ad543765-cd57-4c65-b032-71396791572c",
   "metadata": {},
   "outputs": [],
   "source": [
    "per_house_day = {}\n",
    "per_house_night = {}\n",
    "for a in sa1:\n",
    "    row = cc_affected[cc_affected['SA12018_V1'] == a]\n",
    "    # get the total day and night resident population\n",
    "    num_day = float(row['C18_CURPop'])\n",
    "    num_night = float(row['C18_CNPop'])\n",
    "    per_house_day[a] = num_day / num_house[a]\n",
    "    per_house_night[a] = num_day / num_house[a]"
   ]
  },
  {
   "cell_type": "markdown",
   "id": "b09be817-1fda-42f7-89ba-b525d7911180",
   "metadata": {},
   "source": [
    "### Do this with all districts with houses directly affected by tsunami"
   ]
  },
  {
   "cell_type": "markdown",
   "id": "d1e85f65-c373-4f7a-b721-cb8f7ff31c22",
   "metadata": {},
   "source": [
    "<a id='most_affected_cell'></a>\n",
    "Use a list of all SA2 districts to get the SA1 districts affected by the tsunami. Make a dataframe of SA2 districts: *df*. Merge this with the *cc_affected* dataframe to get **most_affected**.  \n",
    "Export this to csv and geojson:  \n",
    "- cc_most_affected.csv\n",
    "- cc_most_affected.geojson"
   ]
  },
  {
   "cell_type": "code",
   "execution_count": 776,
   "id": "ecbf991d-4b4d-457b-9c56-7d67751af9a1",
   "metadata": {},
   "outputs": [],
   "source": [
    "sa2 = [331700, 332400, 332700, 331800, 331500, 331100, 330200, 328300, 327200, 317100, 327500, 326000, 317200, 326200, 324000, 325100, 330700, 332000, 332100]"
   ]
  },
  {
   "cell_type": "code",
   "execution_count": 1539,
   "id": "84df1cf8-8b2f-4b92-bcb3-0dca85360533",
   "metadata": {},
   "outputs": [],
   "source": [
    "df = pd.DataFrame(sa2, columns=['SA2'])\n",
    "most_affected = pd.merge(cc_affected, df, left_on = 'SA22018_code', right_on='SA2', how='right', validate='m:1')\n",
    "most_affected = most_affected.drop(['SA2'], axis = 1)"
   ]
  },
  {
   "cell_type": "code",
   "execution_count": 780,
   "id": "8627f724-b060-4c4e-840a-5062c09692f5",
   "metadata": {},
   "outputs": [],
   "source": [
    "most_affected.to_csv('../NZ_Data/case_study/christchurch/cc_most_affected.csv')"
   ]
  },
  {
   "cell_type": "code",
   "execution_count": 782,
   "id": "ff90a297-8ca7-4887-a1d1-268a6fc025f0",
   "metadata": {},
   "outputs": [],
   "source": [
    "most_affected.to_file('../NZ_Data/case_study/christchurch/cc_most_affected.geojson', driver='GeoJSON')"
   ]
  },
  {
   "cell_type": "markdown",
   "id": "bf652bd6-8826-4a9f-b3e8-6225eaa6c8f7",
   "metadata": {},
   "source": [
    "**affected_buildings**: merge the [joined](#joined_cell) dataframe with the sa1 districts to get the buildings in the affected districts  \n",
    "Export this to a csv: cc_affected_buildings.csv"
   ]
  },
  {
   "cell_type": "code",
   "execution_count": 784,
   "id": "add17cad-6007-422f-b89c-7ce10cfdf10e",
   "metadata": {},
   "outputs": [],
   "source": [
    "affected_buildings = pd.merge(joined, df, left_on = 'SA22018_code', right_on='SA2', how='right', validate='m:1')\n",
    "affected_buildings = affected_buildings.drop(['SA2'], axis = 1)"
   ]
  },
  {
   "cell_type": "code",
   "execution_count": 786,
   "id": "1bfe652a-e0b7-457b-aa47-5a72eeefe064",
   "metadata": {},
   "outputs": [],
   "source": [
    "affected_buildings.to_csv('../NZ_Data/case_study/christchurch/cc_affected_buildings.csv')"
   ]
  },
  {
   "cell_type": "markdown",
   "id": "4260c42c-c367-4e49-a2c5-a99f6800a2a5",
   "metadata": {},
   "source": [
    "<a id='joined2_cell'></a>**joined2**: spatial join the [most_affected](#most_affected_cell) dataframe with the rating_units data"
   ]
  },
  {
   "cell_type": "code",
   "execution_count": 1541,
   "id": "51a11349-5d7e-4d5f-847d-0cf470a865f7",
   "metadata": {},
   "outputs": [],
   "source": [
    "joined2 = gpd.sjoin(most_affected, rating_units, how = 'inner')"
   ]
  },
  {
   "cell_type": "code",
   "execution_count": 1543,
   "id": "23e60fd9-d32d-414a-96c3-b2104ae60bb8",
   "metadata": {},
   "outputs": [],
   "source": [
    "joined2 = joined2.reset_index(drop = True)"
   ]
  },
  {
   "cell_type": "markdown",
   "id": "16a3854f-8d50-4ec9-9525-f6bbbf797b65",
   "metadata": {},
   "source": [
    "#### Distribute population at building level for day and night for all affected areas"
   ]
  },
  {
   "cell_type": "markdown",
   "id": "184fcae4-d3f0-4705-9b71-5162f0ede768",
   "metadata": {},
   "source": [
    "##### Distributing population accross all buildings"
   ]
  },
  {
   "cell_type": "code",
   "execution_count": 490,
   "id": "898f3835-3a94-4773-b4fb-f91f953b5bc0",
   "metadata": {},
   "outputs": [],
   "source": [
    "# get the number of buildings in each sa1\n",
    "# get SA1 districts\n",
    "num_build = {}\n",
    "sa1 = list(affected_buildings['SA12018_V1'])\n",
    "for a in sa1:\n",
    "    if a in num_build:\n",
    "        num_build[a] = num_build[a] + 1\n",
    "    else:\n",
    "        num_build[a] = 1"
   ]
  },
  {
   "cell_type": "code",
   "execution_count": 492,
   "id": "422eb6b5-5340-4662-a471-d0d81200514d",
   "metadata": {},
   "outputs": [],
   "source": [
    "per_build_day = {}\n",
    "per_build_night = {}\n",
    "for a in sa1:\n",
    "    row = cc_affected[cc_affected['SA12018_V1'] == a]\n",
    "    # get total day and night resident population\n",
    "    num_day = float(row['C18_CURPop'])\n",
    "    num_night = float(row['C18_CNPop'])\n",
    "    per_build_day[a] = num_day / num_build[a]\n",
    "    per_build_night[a] = num_night / num_build[a]"
   ]
  },
  {
   "cell_type": "code",
   "execution_count": 1337,
   "id": "43b366cf-e18a-416d-bd0f-4d0a8824b325",
   "metadata": {},
   "outputs": [],
   "source": [
    "per_build_day_df = pd.DataFrame.from_dict(per_build_day, orient = 'index', columns = ['day_distribution'])\n",
    "per_build_day_df = per_build_day_df.reset_index()"
   ]
  },
  {
   "cell_type": "code",
   "execution_count": 1339,
   "id": "d597b512-ee1f-4a2b-9c05-6c97c04f0190",
   "metadata": {},
   "outputs": [],
   "source": [
    "per_build_night_df = pd.DataFrame.from_dict(per_build_night, orient = 'index', columns = ['night_distribution'])\n",
    "per_build_night_df = per_build_night_df.reset_index()"
   ]
  },
  {
   "cell_type": "code",
   "execution_count": 1341,
   "id": "7060dc80-cd1b-4c93-943e-78c6ef756ed7",
   "metadata": {},
   "outputs": [],
   "source": [
    "build_dist_df = pd.merge(per_build_day_df, per_build_night_df, on = 'index')"
   ]
  },
  {
   "cell_type": "code",
   "execution_count": 1343,
   "id": "74f21b88-34e2-4ccf-8864-a8f3d49b3ed8",
   "metadata": {},
   "outputs": [],
   "source": [
    "build_dist_df.columns = ['SA1', 'day_distribution', 'night_distribution']"
   ]
  },
  {
   "cell_type": "code",
   "execution_count": 1345,
   "id": "8623feeb-abbe-4519-afdf-78d04f4ef532",
   "metadata": {},
   "outputs": [],
   "source": [
    "build_dist_df.to_csv('../NZ_Data/case_study/population_risk_assessment/pop_distribution_by_building.csv')"
   ]
  },
  {
   "cell_type": "markdown",
   "id": "bed2a521-6d85-418f-b8f3-fd71fb1edd2d",
   "metadata": {},
   "source": [
    "##### Distributing population among non-vacant residential buildings"
   ]
  },
  {
   "cell_type": "code",
   "execution_count": 457,
   "id": "57aac376-7fe4-4372-9f02-128c4b88ad92",
   "metadata": {},
   "outputs": [],
   "source": [
    "# spilt population between houses equally\n",
    "# get the number of buildings in each sa1\n",
    "# get SA1 districts\n",
    "sa1 = list(set(most_affected['SA12018_V1']))\n",
    "num_house = {}\n",
    "for i in sa1:\n",
    "    num_house[i] = 0\n",
    "for index, row in joined2.iterrows():\n",
    "    if not pd.isnull(row['LandUse']) and row['LandUse'][0] == '9' and row['LandUse'] != '99':\n",
    "        sa1_ = row['SA12018_V1']\n",
    "        num_house[sa1_] = num_house[sa1_] + 1"
   ]
  },
  {
   "cell_type": "code",
   "execution_count": 469,
   "id": "843c70b6-f758-4af7-bcd7-56b4ab284bdc",
   "metadata": {},
   "outputs": [],
   "source": [
    "per_house_day = {}\n",
    "per_house_night = {}\n",
    "total_day = 0\n",
    "total_night = 0\n",
    "for a in sa1:\n",
    "    row = cc_affected[cc_affected['SA12018_V1'] == a]\n",
    "    # get the total day and night resident population\n",
    "    num_day = float(row['C18_CURPop'])\n",
    "    num_night = float(row['C18_CNPop'])\n",
    "    if not np.isnan(num_day):\n",
    "        total_day = total_day + num_day\n",
    "    if not np.isnan(num_night):\n",
    "        total_night = total_night + num_night\n",
    "\n",
    "    if num_house[a] > 0:\n",
    "        per_house_day[a] = num_day / num_house[a]\n",
    "        per_house_night[a] = num_night / num_house[a]\n",
    "    else:\n",
    "        per_house_day[a] = 0\n",
    "        per_house_night[a] = 0"
   ]
  },
  {
   "cell_type": "code",
   "execution_count": 471,
   "id": "80425fdb-fef4-4ebe-908b-772adebbdbfc",
   "metadata": {},
   "outputs": [
    {
     "name": "stdout",
     "output_type": "stream",
     "text": [
      "Number of people impacted if tsunami strikes during the day: 40950.0\n",
      "Number of people impacted if tsunami strikes at night: 40893.0\n"
     ]
    }
   ],
   "source": [
    "print(f'Number of people impacted if tsunami strikes during the day: {total_day}\\nNumber of people impacted if tsunami strikes at night: {total_night}')"
   ]
  },
  {
   "cell_type": "code",
   "execution_count": 1309,
   "id": "2e19611b-cf11-4e1e-9107-3bd3455efba1",
   "metadata": {},
   "outputs": [],
   "source": [
    "per_house_day_df = pd.DataFrame.from_dict(per_house_day, orient = 'index', columns = ['day_distribution'])\n",
    "per_house_day_df = per_house_day_df.reset_index()"
   ]
  },
  {
   "cell_type": "code",
   "execution_count": 1311,
   "id": "80e4a249-2d2d-449d-9dc2-e631cf52d970",
   "metadata": {},
   "outputs": [],
   "source": [
    "per_house_night_df = pd.DataFrame.from_dict(per_house_night, orient = 'index', columns = ['night_distribution'])\n",
    "per_house_night_df = per_house_night_df.reset_index()"
   ]
  },
  {
   "cell_type": "code",
   "execution_count": 1313,
   "id": "93f64703-e3eb-4935-9e91-9883dc457b68",
   "metadata": {},
   "outputs": [],
   "source": [
    "house_dist_df = pd.merge(per_house_day_df, per_house_night_df, on = 'index')"
   ]
  },
  {
   "cell_type": "code",
   "execution_count": 1319,
   "id": "c86c4c86-b402-4e19-992d-fadc4c659db6",
   "metadata": {},
   "outputs": [],
   "source": [
    "house_dist_df.columns = ['SA1', 'day_distribution', 'night_distribution']"
   ]
  },
  {
   "cell_type": "code",
   "execution_count": 1335,
   "id": "e822b1e1-cdf9-40e8-94cc-1527bca50bd0",
   "metadata": {},
   "outputs": [],
   "source": [
    "house_dist_df.to_csv('../NZ_Data/case_study/population_risk_assessment/pop_distribution_by_house.csv')"
   ]
  },
  {
   "cell_type": "markdown",
   "id": "7edf3318-3bbe-4aef-a1e8-98a33a254b45",
   "metadata": {},
   "source": [
    "*Note that 'impact' in this scenario means direct exposure.*"
   ]
  },
  {
   "cell_type": "markdown",
   "id": "a51742d6-d335-4b74-9ad0-a36d2fb9add8",
   "metadata": {},
   "source": [
    "#### Address Points that will be worst affected"
   ]
  },
  {
   "cell_type": "markdown",
   "id": "92ecb409-b27c-41ab-b237-21c2a1056625",
   "metadata": {},
   "source": [
    "Export [joined2](#joined2_cell) to csv as *cc_affected_rating_units.csv*."
   ]
  },
  {
   "cell_type": "code",
   "execution_count": 603,
   "id": "fed625c7-1f0e-4b01-a0ee-673b733ad61e",
   "metadata": {},
   "outputs": [],
   "source": [
    "joined2.to_csv('../NZ_Data/case_study/christchurch/cc_affected_rating_units.csv')"
   ]
  },
  {
   "cell_type": "markdown",
   "id": "ce6b9f20-a50e-4bda-bee8-69d24c91d2b3",
   "metadata": {},
   "source": [
    "make a dataframe of the list of affected addresses from the rating units data and export that dataframe as *affected_addresses.csv*"
   ]
  },
  {
   "cell_type": "code",
   "execution_count": 52,
   "id": "98fa025b-1627-485b-b7e4-7a060a88965b",
   "metadata": {},
   "outputs": [],
   "source": [
    "# get the list of affected addresses from the addresses column of the joined2 df\n",
    "affected_addresses = list(joined2['StreetAddr'])"
   ]
  },
  {
   "cell_type": "code",
   "execution_count": 1349,
   "id": "4adf8e5c-f974-4cc7-9934-e0aebd6989d9",
   "metadata": {},
   "outputs": [],
   "source": [
    "affected_addresses_df = pd.DataFrame(affected_addresses, columns = ['address'])"
   ]
  },
  {
   "cell_type": "code",
   "execution_count": 1353,
   "id": "151d2694-9795-4d9d-9261-0bc18ccb23b1",
   "metadata": {},
   "outputs": [],
   "source": [
    "affected_addresses_df.to_csv('../NZ_Data/case_study/population_risk_assessment/affected_addresses.csv')"
   ]
  },
  {
   "cell_type": "markdown",
   "id": "a0d1d6bc-088f-4524-b364-642f256cbf44",
   "metadata": {},
   "source": [
    "#### Households that will require additional support evacuating"
   ]
  },
  {
   "cell_type": "markdown",
   "id": "56931105-6f90-463f-a53f-5d7af8779d97",
   "metadata": {},
   "source": [
    "To determine the households that will need assistance evacuating we will choose things that could make evacuation difficult and then see which ones each SA1 district needs to worry about most"
   ]
  },
  {
   "cell_type": "markdown",
   "id": "53fd3cd6-5aaf-426c-8454-a2b26266dc86",
   "metadata": {},
   "source": [
    "- Age: households with young children and older adults will have trouble evacuating\n",
    "    - C18_Age5year_0_4_years\n",
    "    - C18_Agelifecyclegroup_Over65\n",
    "- Don't have car: not having a personal car means that people will be relying on public transportation to evacuate\n",
    "    - C18_MotorVehicles_No_Vehicle\n",
    "- Disability Status\n",
    "    - seeing\n",
    "        - C18_Seeing_A_lot_of_difficulty\n",
    "        - C18_Seeing_Cannot_do_at_all\n",
    "    - hearing\n",
    "        - C18_Hearing_A_lot_of_difficult\n",
    "        - C18_Hearing_Cannot_do_at_all\n",
    "    - walking\n",
    "        - C18_Walking_A_lot_of_difficult\n",
    "        - C18_Walking_Cannot_do_at_all\n",
    "    - remembering\n",
    "        - C18_Remembering_A_lot_of_diffi\n",
    "        - C18_Remembering_Cannot_do\n",
    "    - washing\n",
    "        - C18_Washing_A_lot_of_difficult\n",
    "        - C18_Washing_Cannot_do_at_all\n",
    "    - communicating\n",
    "        - C18_Communicating_A_lot_of_dif\n",
    "        - C18_Communicating_Cannot_do"
   ]
  },
  {
   "cell_type": "code",
   "execution_count": 1500,
   "id": "99bbd20e-c993-420f-9b33-0aaf1ea70b5c",
   "metadata": {},
   "outputs": [],
   "source": [
    "# list of columns I am interested in keeping\n",
    "col_list = ['C18_Age5year_0_4_years', 'C18_Agelifecyclegroup_Over65', 'C18_MotorVehicles_No_Vehicle', 'C18_Seeing_A_lot_of_difficulty',\n",
    "            'C18_Seeing_Cannot_do_at_all', 'C18_Hearing_A_lot_of_difficult', 'C18_Hearing_Cannot_do_at_all', 'C18_Walking_A_lot_of_difficult', 'C18_Walking_Cannot_do_at_all',\n",
    "            'C18_Remembering_A_lot_of_diffi', 'C18_Remembering_Cannot_do', 'C18_Washing_A_lot_of_difficult', 'C18_Washing_Cannot_do_at_all', 'C18_Communicating_A_lot_of_dif',\n",
    "            'C18_Communicating_Cannot_do', 'SA1', 'SA22018_code']"
   ]
  },
  {
   "cell_type": "code",
   "execution_count": 1502,
   "id": "39bf3c70-6f38-4068-8121-d5ab56747b56",
   "metadata": {},
   "outputs": [],
   "source": [
    "assistance = pd.merge(most_affected, df2, left_on = 'SA12018_V1', right_on = 'SA1')"
   ]
  },
  {
   "cell_type": "code",
   "execution_count": 1504,
   "id": "6ac731f8-94e0-485b-b6b6-5c545df33451",
   "metadata": {},
   "outputs": [],
   "source": [
    "assistance = assistance[col_list].copy()"
   ]
  },
  {
   "cell_type": "markdown",
   "id": "68e66ed3-0565-4e3e-a109-f0e3d7a9077f",
   "metadata": {},
   "source": [
    "The following function will allow us to combine the number of residents who have a lot of difficulty doing something and the number of residents who cannot do it at all."
   ]
  },
  {
   "cell_type": "code",
   "execution_count": 816,
   "id": "e934c324-7951-4526-b98c-5ce5050ca231",
   "metadata": {},
   "outputs": [],
   "source": [
    "def combine(diffi, cannot):\n",
    "    total = []\n",
    "    for d,c in zip(diffi,cannot):\n",
    "        if np.isnan(c) and np.isnan(d):\n",
    "            total.append(np.nan)\n",
    "        elif np.isnan(d):\n",
    "            total.append(c)\n",
    "        elif np.isnan(c):\n",
    "                total.append(d)\n",
    "        else:\n",
    "            total.append(c + d)\n",
    "    return total"
   ]
  },
  {
   "cell_type": "code",
   "execution_count": 1507,
   "id": "d7cb9eda-0a1e-42d7-9c0e-740a6a17fc84",
   "metadata": {},
   "outputs": [],
   "source": [
    "# combine each set of disability cols into a single col\n",
    "seeing = combine(list(assistance['C18_Seeing_A_lot_of_difficulty']), list(assistance['C18_Seeing_Cannot_do_at_all']))\n",
    "hearing = combine(list(assistance['C18_Hearing_A_lot_of_difficult']), list(assistance['C18_Hearing_Cannot_do_at_all']))\n",
    "walking = combine(list(assistance['C18_Walking_A_lot_of_difficult']), list(assistance['C18_Walking_Cannot_do_at_all']))\n",
    "remembering = combine(list(assistance['C18_Remembering_A_lot_of_diffi']), list(assistance['C18_Remembering_Cannot_do']))\n",
    "washing = combine(list(assistance['C18_Washing_A_lot_of_difficult']), list(assistance['C18_Washing_Cannot_do_at_all']))\n",
    "communicating = combine(list(assistance['C18_Communicating_A_lot_of_dif']), list(assistance['C18_Communicating_Cannot_do']))"
   ]
  },
  {
   "cell_type": "markdown",
   "id": "ce4c8acd-f90a-4e34-8f0b-c1911d741159",
   "metadata": {},
   "source": [
    "Make new columns of these combined totals"
   ]
  },
  {
   "cell_type": "code",
   "execution_count": 1509,
   "id": "bd345597-4154-4a15-ab56-8010688a3b9f",
   "metadata": {},
   "outputs": [],
   "source": [
    "assistance['trouble_seeing'] = seeing\n",
    "assistance['trouble_hearing'] = hearing\n",
    "assistance['trouble_walking'] = walking\n",
    "assistance['trouble_remembering'] = remembering\n",
    "assistance['trouble_washing'] = washing\n",
    "assistance['trouble_communicating'] = communicating"
   ]
  },
  {
   "cell_type": "markdown",
   "id": "b778ecbe-e2a2-453a-b2e1-b2c924ce3a0e",
   "metadata": {},
   "source": [
    "Drop the separate columns"
   ]
  },
  {
   "cell_type": "code",
   "execution_count": 1513,
   "id": "2b3e4896-4fb6-4daa-bec8-0f111695c5a6",
   "metadata": {},
   "outputs": [],
   "source": [
    "assistance = assistance.drop(['C18_Seeing_A_lot_of_difficulty', 'C18_Seeing_Cannot_do_at_all', 'C18_Hearing_A_lot_of_difficult', 'C18_Hearing_Cannot_do_at_all',\n",
    "                              'C18_Walking_A_lot_of_difficult', 'C18_Walking_Cannot_do_at_all', 'C18_Remembering_A_lot_of_diffi', 'C18_Remembering_Cannot_do',\n",
    "                              'C18_Washing_A_lot_of_difficult', 'C18_Washing_Cannot_do_at_all', 'C18_Communicating_A_lot_of_dif', 'C18_Communicating_Cannot_do'], axis=1)"
   ]
  },
  {
   "cell_type": "markdown",
   "id": "dcaacaec-8faf-4277-ad5b-4a2755f0a479",
   "metadata": {},
   "source": [
    "Make dictionaries with the counts of vulnerable populations by SA1. Sort these dictionaries from largest to smallest number of vulnerable residents."
   ]
  },
  {
   "cell_type": "code",
   "execution_count": 1517,
   "id": "d9291c02-c93c-438f-b823-978e7f35e305",
   "metadata": {},
   "outputs": [],
   "source": [
    "# get SA1 areas with largest number of young children, older adults, people without a car, and disabled population\n",
    "young_child = {}\n",
    "over65 = {}\n",
    "nocar = {}\n",
    "seeing = {}\n",
    "hearing = {}\n",
    "walking = {}\n",
    "remembering = {}\n",
    "washing = {}\n",
    "communicating = {}\n",
    "for index, row in assistance.iterrows():\n",
    "    sa1 = row['SA1']\n",
    "    o65 = row['C18_Agelifecyclegroup_Over65']\n",
    "    if not np.isnan(o65):\n",
    "        over65[sa1] = o65\n",
    "    young = row['C18_Age5year_0_4_years']\n",
    "    if not np.isnan(young):\n",
    "        young_child[sa1] = young\n",
    "    car = row['C18_MotorVehicles_No_Vehicle']\n",
    "    if not np.isnan(car):\n",
    "        nocar[sa1] = car\n",
    "    see = row['trouble_seeing']\n",
    "    if not np.isnan(see):\n",
    "        seeing[sa1] = see\n",
    "    hear = row['trouble_hearing']\n",
    "    if not np.isnan(hear):\n",
    "        hearing[sa1] = hear\n",
    "    walk = row['trouble_walking']\n",
    "    if not np.isnan(walk):\n",
    "        walking[sa1] = walk\n",
    "    rem = row['trouble_remembering']\n",
    "    if not np.isnan(rem):\n",
    "        remembering[sa1] = rem\n",
    "    wash = row['trouble_washing']\n",
    "    if not np.isnan(wash):\n",
    "        washing[sa1] = wash\n",
    "    comm = row['trouble_communicating']\n",
    "    if not np.isnan(comm):\n",
    "        communicating[sa1] = comm"
   ]
  },
  {
   "cell_type": "code",
   "execution_count": 1520,
   "id": "3b85f728-bcef-46d6-8122-2ecc7cd68a0b",
   "metadata": {},
   "outputs": [],
   "source": [
    "# put all of these dictionaries in order by value\n",
    "young_child = {k: v for k, v in sorted(young_child.items(), key=lambda item: item[1], reverse = True)}\n",
    "over65 = {k: v for k, v in sorted(singleover65.items(), key=lambda item: item[1], reverse = True)}\n",
    "nocar = {k: v for k, v in sorted(nocar.items(), key=lambda item: item[1], reverse = True)}\n",
    "disability_count = {k: v for k, v in sorted(disability_count.items(), key=lambda item: item[1], reverse = True)}\n",
    "seeing = {k: v for k, v in sorted(seeing.items(), key=lambda item: item[1], reverse = True)}\n",
    "hearing = {k: v for k, v in sorted(hearing.items(), key=lambda item: item[1], reverse = True)}\n",
    "walking = {k: v for k, v in sorted(walking.items(), key=lambda item: item[1], reverse = True)}\n",
    "remembering = {k: v for k, v in sorted(remembering.items(), key=lambda item: item[1], reverse = True)}\n",
    "washing = {k: v for k, v in sorted(washing.items(), key=lambda item: item[1], reverse = True)}\n",
    "communicating = {k: v for k, v in sorted(communicating.items(), key=lambda item: item[1], reverse = True)}"
   ]
  },
  {
   "cell_type": "markdown",
   "id": "24508b5b-bd98-40b1-b5e8-443bd6d0c923",
   "metadata": {},
   "source": [
    "put each of these dictionaries into a dataframe that can be easily shared and exported as *vulnerable_populations.csv*"
   ]
  },
  {
   "cell_type": "code",
   "execution_count": 1361,
   "id": "e4c9a037-97bc-4773-9462-23d9da277849",
   "metadata": {},
   "outputs": [],
   "source": [
    "young_child_df = pd.DataFrame.from_dict(young_child, orient = 'index', columns = ['young_child'])\n",
    "young_child_df = young_child_df.reset_index()"
   ]
  },
  {
   "cell_type": "code",
   "execution_count": 1365,
   "id": "9d846602-1992-4344-a143-a885d3f9f310",
   "metadata": {},
   "outputs": [],
   "source": [
    "over65_df = pd.DataFrame.from_dict(over65, orient = 'index', columns = ['over65'])\n",
    "over65_df = over65_df.reset_index()"
   ]
  },
  {
   "cell_type": "code",
   "execution_count": 1367,
   "id": "b3cde956-fb60-45ac-90d0-2dda2157ccf6",
   "metadata": {},
   "outputs": [],
   "source": [
    "nocar_df = pd.DataFrame.from_dict(nocar, orient = 'index', columns = ['nocar'])\n",
    "nocar_df = nocar_df.reset_index()"
   ]
  },
  {
   "cell_type": "code",
   "execution_count": 1369,
   "id": "9796e094-b704-4bf0-aaa3-a22d9da4cbb5",
   "metadata": {},
   "outputs": [],
   "source": [
    "seeing_df = pd.DataFrame.from_dict(seeing, orient = 'index', columns = ['seeing'])\n",
    "seeing_df = seeing_df.reset_index()"
   ]
  },
  {
   "cell_type": "code",
   "execution_count": 1371,
   "id": "c37c4296-4ebf-4dcc-a911-cd852cb892a2",
   "metadata": {},
   "outputs": [],
   "source": [
    "hearing_df = pd.DataFrame.from_dict(hearing, orient = 'index', columns = ['hearing'])\n",
    "hearing_df = hearing_df.reset_index()"
   ]
  },
  {
   "cell_type": "code",
   "execution_count": 1373,
   "id": "afc89ff5-0845-408d-9aa0-010e9bc852b0",
   "metadata": {},
   "outputs": [],
   "source": [
    "walking_df = pd.DataFrame.from_dict(walking, orient = 'index', columns = ['walking'])\n",
    "walking_df = walking_df.reset_index()"
   ]
  },
  {
   "cell_type": "code",
   "execution_count": 1375,
   "id": "17244178-28b3-403c-bace-549cd286bafe",
   "metadata": {},
   "outputs": [],
   "source": [
    "remembering_df = pd.DataFrame.from_dict(remembering, orient = 'index', columns = ['remembering'])\n",
    "remembering_df = remembering_df.reset_index()"
   ]
  },
  {
   "cell_type": "code",
   "execution_count": 1377,
   "id": "6df0320b-7082-48a6-9c9a-b413de87d5fb",
   "metadata": {},
   "outputs": [],
   "source": [
    "washing_df = pd.DataFrame.from_dict(washing, orient = 'index', columns = ['washing'])\n",
    "washing_df = washing_df.reset_index()"
   ]
  },
  {
   "cell_type": "code",
   "execution_count": 1379,
   "id": "d56e4660-b1e5-4e77-9b69-03e57e12c85a",
   "metadata": {},
   "outputs": [],
   "source": [
    "communicating_df = pd.DataFrame.from_dict(communicating, orient = 'index', columns = ['communicating'])\n",
    "communicating_df = communicating_df.reset_index()"
   ]
  },
  {
   "cell_type": "code",
   "execution_count": 1381,
   "id": "08747855-8f54-4095-b65d-287d1f4a4ed7",
   "metadata": {},
   "outputs": [],
   "source": [
    "vulnerable_pop_df = young_child_df.merge(over65_df, on = 'index', how = 'outer').merge(nocar_df, on = 'index', how = 'outer').merge(seeing_df, on = 'index', how = 'outer').merge(hearing_df, on = 'index', how = 'outer').merge(walking_df, on = 'index', how = 'outer').merge(remembering_df, on = 'index', how = 'outer').merge(washing_df, on = 'index', how = 'outer').merge(communicating_df, on = 'index', how = 'outer')"
   ]
  },
  {
   "cell_type": "code",
   "execution_count": 1389,
   "id": "752aac58-b682-47fa-8793-380dbf0db26d",
   "metadata": {},
   "outputs": [],
   "source": [
    "col_names = ['SA1', 'children_0_4_y_count', 'over65_count', 'no_car_count', 'difficulty_seeing_count', 'difficulty_hearing_count', 'difficulty_walking_count', 'difficulty_remembering_count', 'difficulty_washing_count',\n",
    "             'difficulty_communicating_count']"
   ]
  },
  {
   "cell_type": "code",
   "execution_count": 1391,
   "id": "d9ae2399-d4da-4e0c-9e6f-98e834c94cb5",
   "metadata": {},
   "outputs": [],
   "source": [
    "vulnerable_pop_df.columns = col_names"
   ]
  },
  {
   "cell_type": "code",
   "execution_count": 1395,
   "id": "fdc01adb-7ac5-4e06-914c-37da82a49d4c",
   "metadata": {},
   "outputs": [],
   "source": [
    "vulnerable_pop_df.to_csv('../NZ_Data/case_study/population_risk_assessment/vulnerable_populations.csv')"
   ]
  },
  {
   "cell_type": "markdown",
   "id": "db660724-f1e8-4bce-8ef8-4a8809996e17",
   "metadata": {},
   "source": [
    "SA1 districts with a large number of young children:  \n",
    "1. 7026534\n",
    "    - 24\n",
    "2. 7026558\n",
    "    - 21\n",
    "3. 7026580\n",
    "    - 21\n",
    "4. 7026391\n",
    "    - 21\n",
    "5. 7026563\n",
    "    - 21"
   ]
  },
  {
   "cell_type": "markdown",
   "id": "196c0cd6-79e4-45f6-bc63-22ff7cac3cfc",
   "metadata": {},
   "source": [
    "SA1 districts with a large number of residents over 65 years old:  \n",
    "1. 7026371\n",
    "    - 105\n",
    "2. 7026369\n",
    "    - 84\n",
    "3. 7026591\n",
    "    - 78\n",
    "4. 7026576\n",
    "    - 75\n",
    "5. 7026489\n",
    "    - 69"
   ]
  },
  {
   "cell_type": "markdown",
   "id": "33d38ca6-64c6-49a3-afdc-693785bcbd3c",
   "metadata": {},
   "source": [
    "SA1 districts with a large number of residents who don't have a car:  \n",
    "1. 7026369\n",
    "    - 27\n",
    "2. 7024509\n",
    "    - 21\n",
    "3. 7026377\n",
    "    - 18"
   ]
  },
  {
   "cell_type": "markdown",
   "id": "1bbde33e-6032-4dc1-aaf5-b276a214e449",
   "metadata": {},
   "source": [
    "SA1 districts with largest number of disabled residents *(residents with multiple disabilities counted multiple times)*:  \n",
    "1. 7026591\n",
    "    - 114\n",
    "2. 7026371\n",
    "    - 105\n",
    "3. 7026369\n",
    "    - 51"
   ]
  },
  {
   "cell_type": "markdown",
   "id": "55daa23b-1087-4848-aff3-926931b717f1",
   "metadata": {},
   "source": [
    "SA1 districts with largest number of residents who have difficulty seeing:  \n",
    "1. 7026591\n",
    "    - 9\n",
    "2. 7026371\n",
    "    - 9\n",
    "3. 7026451\n",
    "    - 9\n",
    "4. 7024539\n",
    "    - 9"
   ]
  },
  {
   "cell_type": "markdown",
   "id": "690dc0b4-060e-4749-8d69-6dec2ee2fb63",
   "metadata": {},
   "source": [
    "SA1 district with largest number of residents who have difficulty hearing:  \n",
    "1. 7024568\n",
    "    - 12\n",
    "2. 7026362\n",
    "    - 9\n",
    "3. 7024577\n",
    "    - 9"
   ]
  },
  {
   "cell_type": "markdown",
   "id": "74259688-82b3-45bd-9959-7c3b97a23f87",
   "metadata": {},
   "source": [
    "SA1 districts with largest number of residents who have difficulty walking:  \n",
    "1. 7026591\n",
    "    - 36\n",
    "2. 7026369\n",
    "    - 24\n",
    "3. 7026371\n",
    "    - 18\n",
    "4. 7026362\n",
    "    - 12\n",
    "5. 7026531\n",
    "    - 12\n",
    "6. 7026395\n",
    "    - 12\n",
    "7. 7026470\n",
    "    - 12"
   ]
  },
  {
   "cell_type": "markdown",
   "id": "033876b7-e28e-487b-bf02-a130d0b8b422",
   "metadata": {},
   "source": [
    "SA1 districts with largest number of residents who have difficulty remembering:  \n",
    "1. 7026371\n",
    "    - 27\n",
    "2. 7026591\n",
    "    - 21\n",
    "3. 7026399\n",
    "    - 12"
   ]
  },
  {
   "cell_type": "markdown",
   "id": "f195d2ce-509e-45d3-ba9c-bd1c1ebc54ed",
   "metadata": {},
   "source": [
    "SA1 districts with largest number of residents who have difficulty washing:  \n",
    "1. 7026371\n",
    "    - 33\n",
    "2. 7026591\n",
    "    - 27"
   ]
  },
  {
   "cell_type": "markdown",
   "id": "8f7a50c7-627b-4438-bd85-c81b3b366cd7",
   "metadata": {},
   "source": [
    "SA1 districts with largest number of residents who have difficulty communicating:  \n",
    "1. 7026591\n",
    "    - 15\n",
    "2. 7026371\n",
    "    - 12\n",
    "3. 7026491\n",
    "    - 9"
   ]
  },
  {
   "cell_type": "markdown",
   "id": "2bec7dd9-1378-449d-a0be-b041e3d1cab7",
   "metadata": {},
   "source": [
    "#### Impact on GDP"
   ]
  },
  {
   "cell_type": "markdown",
   "id": "29f462e2-4a86-4e0e-aa6d-d420b5aba610",
   "metadata": {},
   "source": [
    "We want to pull the industries that will be most impacted by a tsunami. In this case, that would be industries located in districts that are directly hit."
   ]
  },
  {
   "cell_type": "code",
   "execution_count": 1525,
   "id": "db27a58d-b99d-4de4-a3de-bfe62c666704",
   "metadata": {},
   "outputs": [],
   "source": [
    "cols = most_affected.columns\n",
    "keep = []\n",
    "for c in cols:\n",
    "    if 'Ind22' in c:\n",
    "        keep.append(c)\n",
    "keep.append('SA12018_V1')"
   ]
  },
  {
   "cell_type": "code",
   "execution_count": 1527,
   "id": "86caa504-35b2-401d-843f-b6ac63a78711",
   "metadata": {},
   "outputs": [],
   "source": [
    "most_affected = most_affected[keep].copy()"
   ]
  },
  {
   "cell_type": "code",
   "execution_count": 1529,
   "id": "c7f1abe8-47f4-473e-acaf-574e58f444f2",
   "metadata": {},
   "outputs": [],
   "source": [
    "# get total number of employees in each industry in the most affected areas\n",
    "keep.remove('SA12018_V1')\n",
    "sums = {}\n",
    "for i in keep:\n",
    "    lst = list(most_affected[i])\n",
    "    sums[i] = np.nansum(lst)"
   ]
  },
  {
   "cell_type": "code",
   "execution_count": 1531,
   "id": "99531118-aa50-4733-89c7-116819a319f6",
   "metadata": {},
   "outputs": [],
   "source": [
    "sorted_sums = {k: v for k, v in sorted(sums.items(), key=lambda item: item[1], reverse = True)}"
   ]
  },
  {
   "cell_type": "markdown",
   "id": "4176fa84-0bbe-49c4-a7de-60f8abf5eb20",
   "metadata": {},
   "source": [
    "Most Affected:  \n",
    "1. Manufacturing\n",
    "2. Construction\n",
    "3. Health Care and Social Assistance\n",
    "4. Retail Trade\n",
    "5. Wholesale Trade\n",
    "6. Education and Training\n",
    "7. Transport, Postal, and Warehousing\n",
    "8. Accommodation and Food Services\n",
    "9. Professional, Scientific, and Technical Services\n",
    "10. Administrative and Support Services"
   ]
  },
  {
   "cell_type": "markdown",
   "id": "2674c021-44ae-4bd5-b756-ac22827c2d8b",
   "metadata": {},
   "source": [
    "Want to figure out what percentage of employees in christchurch will be most affected"
   ]
  },
  {
   "cell_type": "markdown",
   "id": "8ce51cff-b848-4df6-aed6-0ff181c48a64",
   "metadata": {},
   "source": [
    "**christchurch:** read the christchurch data in as dataframe"
   ]
  },
  {
   "cell_type": "code",
   "execution_count": 101,
   "id": "e1db9917-eea6-458a-bb75-0310f0a8a8f0",
   "metadata": {},
   "outputs": [],
   "source": [
    "christchurch = pd.read_csv('../NZ_Data/case_study/christchurch/cc_data.csv')"
   ]
  },
  {
   "cell_type": "code",
   "execution_count": 103,
   "id": "3b784ca5-9850-413b-b251-35a9893c8898",
   "metadata": {},
   "outputs": [],
   "source": [
    "# get total number of employees in christchurch\n",
    "num_emp = 0\n",
    "for i in keep:\n",
    "    lst = list(christchurch[i])\n",
    "    num_emp = num_emp + np.nansum(lst)"
   ]
  },
  {
   "cell_type": "code",
   "execution_count": 105,
   "id": "cfa06287-2f4a-472d-ab26-c81e1d737d84",
   "metadata": {},
   "outputs": [],
   "source": [
    "# get total number of employees in affected region\n",
    "num_emp_affected = sum(sums.values())"
   ]
  },
  {
   "cell_type": "code",
   "execution_count": 107,
   "id": "d323f69a-874b-4245-9819-629671245371",
   "metadata": {},
   "outputs": [],
   "source": [
    "# get percentage of total employees affected\n",
    "percent = num_emp_affected / num_emp * 100"
   ]
  },
  {
   "cell_type": "code",
   "execution_count": 109,
   "id": "49cdc133-706c-41db-8fea-1dc01e61b4f2",
   "metadata": {},
   "outputs": [],
   "source": [
    "# 3 months = 1/4 of a year\n",
    "yearly_loss_p = percent * 0.25"
   ]
  },
  {
   "cell_type": "markdown",
   "id": "60e7926d-1d4f-4fd0-85c5-fd5e88a1e079",
   "metadata": {},
   "source": [
    "Losses from affected businesses would account for almost 2% of the GDP of Christchurch if it took them 3 months to recover."
   ]
  },
  {
   "cell_type": "markdown",
   "id": "6109babe-a939-4439-b195-a70aa5435624",
   "metadata": {},
   "source": [
    "#### Get the important buildings and their locations"
   ]
  },
  {
   "cell_type": "markdown",
   "id": "5594d143-385b-4d36-83ca-3f9b7f4211af",
   "metadata": {},
   "source": [
    "The following function determines whether or not a building is important based on it's rating unit land use code."
   ]
  },
  {
   "cell_type": "code",
   "execution_count": 588,
   "id": "5a6d5c6d-57b9-4c76-b359-1b75ccee0f38",
   "metadata": {},
   "outputs": [],
   "source": [
    "def is_important(landuse: str) -> bool:\n",
    "    result = False\n",
    "    match landuse:\n",
    "        case '03':\n",
    "            result = True\n",
    "        case '06':\n",
    "            result = True\n",
    "        case '30':\n",
    "            result = True\n",
    "        case '31':\n",
    "            result = True\n",
    "        case '33':\n",
    "            result = True\n",
    "        case '34':\n",
    "            result = True\n",
    "        case '35':\n",
    "            result = True\n",
    "        case '42':\n",
    "            result = True\n",
    "        case '60':\n",
    "            result = True\n",
    "        case '61':\n",
    "            result = True\n",
    "        case '62':\n",
    "            result = True\n",
    "        case '63':\n",
    "            result = True\n",
    "        case '64':\n",
    "            result = True\n",
    "        case '65':\n",
    "            result = True\n",
    "        case '73':\n",
    "            result = True\n",
    "        case '74':\n",
    "            result = True\n",
    "        case '75':\n",
    "            result = True\n",
    "        case '76':\n",
    "            result = True\n",
    "    return result"
   ]
  },
  {
   "cell_type": "markdown",
   "id": "75fcdac5-b540-4527-a25d-61d2962301bf",
   "metadata": {},
   "source": [
    "Make a dictionary of all the important buildings in each SA1 area."
   ]
  },
  {
   "cell_type": "code",
   "execution_count": 590,
   "id": "914a93a0-3466-4193-946e-7fd8445d1f53",
   "metadata": {},
   "outputs": [],
   "source": [
    "important_places = {}\n",
    "num_rows = len(joined2.index)\n",
    "land = list(joined2['LandUse'])\n",
    "for i in range(0, num_rows):\n",
    "    landuse = land[i]\n",
    "    if not pd.isnull(landuse):\n",
    "        if is_important(landuse):\n",
    "            sa1_code = joined2['SA12018_V1'][i]\n",
    "            # print([landuse])\n",
    "            if sa1_code in important_places:\n",
    "                # print(sa1_code)\n",
    "                # print(important_places[sa1_code])\n",
    "                important_places[sa1_code].append(landuse)\n",
    "                # print(important_places[sa1_code])\n",
    "            else:\n",
    "                # print([landuse])\n",
    "                important_places[sa1_code] = [landuse]"
   ]
  },
  {
   "cell_type": "markdown",
   "id": "7cb3f9f3-e73b-4e5f-a85a-3743f06df79b",
   "metadata": {},
   "source": [
    "Get the important places on the peninsula, we want to relocate some of these places, but no all of them because people still live there and need essential services."
   ]
  },
  {
   "cell_type": "code",
   "execution_count": 594,
   "id": "b34d58cf-5d97-4d1c-8967-23e380072dc5",
   "metadata": {},
   "outputs": [],
   "source": [
    "# get the SA1 districts in the peninsula\n",
    "penin = list(joined2[joined2['SA22018_code'] == 331700]['SA12018_V1'])"
   ]
  },
  {
   "cell_type": "code",
   "execution_count": 597,
   "id": "279eacfc-9b0c-4670-9f22-6eeab153fa36",
   "metadata": {},
   "outputs": [],
   "source": [
    "important_peninsula = {}\n",
    "for sa1 in important_places:\n",
    "    if sa1 in penin:\n",
    "        important_peninsula[sa1] = important_places[sa1]"
   ]
  },
  {
   "cell_type": "code",
   "execution_count": 599,
   "id": "e2d3be0c-e5ea-464d-8ba1-5b74b3f5dde8",
   "metadata": {},
   "outputs": [
    {
     "data": {
      "text/plain": [
       "{7026572: ['62', '65'],\n",
       " 7026534: ['65', '62'],\n",
       " 7026548: ['62'],\n",
       " 7026551: ['62'],\n",
       " 7026554: ['64'],\n",
       " 7026555: ['62'],\n",
       " 7026556: ['62'],\n",
       " 7026558: ['62'],\n",
       " 7026560: ['62', '62', '62'],\n",
       " 7026573: ['62'],\n",
       " 7026574: ['62']}"
      ]
     },
     "execution_count": 599,
     "metadata": {},
     "output_type": "execute_result"
    }
   ],
   "source": [
    "important_peninsula"
   ]
  },
  {
   "cell_type": "markdown",
   "id": "b1867920-8320-4ba4-9f7a-8f7f27b8c16a",
   "metadata": {},
   "source": [
    "Relocate two electricity utilities buildings in area 7026560 where there are three. This area is very close to the water and would be very affected by a tsunami."
   ]
  },
  {
   "cell_type": "markdown",
   "id": "a0cb5f6c-92a2-4e60-ad20-b8be1b9469c9",
   "metadata": {},
   "source": [
    "#### Get important places in areas that will be flooded and decide how much should be relocated."
   ]
  },
  {
   "cell_type": "markdown",
   "id": "a1acc402-bb8d-47d7-a0bc-84687401b9de",
   "metadata": {},
   "source": [
    "##### SA1: 7026439  \n",
    "![alternate image name](7026439.png)"
   ]
  },
  {
   "cell_type": "code",
   "execution_count": 604,
   "id": "ad792793-71a1-4805-bcb8-33e18c5a6b7b",
   "metadata": {},
   "outputs": [],
   "source": [
    "counts = {}\n",
    "for code in important_places[7026439]:\n",
    "    if code in counts:\n",
    "        counts[code] = 1 + counts[code]\n",
    "    else:\n",
    "        counts[code] = 1"
   ]
  },
  {
   "cell_type": "code",
   "execution_count": 606,
   "id": "39e7e9f6-4906-4960-9971-c03b54128865",
   "metadata": {},
   "outputs": [
    {
     "data": {
      "text/plain": [
       "{'65': 2, '35': 1, '76': 1, '64': 1, '62': 4, '74': 2, '73': 2, '75': 6}"
      ]
     },
     "execution_count": 606,
     "metadata": {},
     "output_type": "execute_result"
    }
   ],
   "source": [
    "counts"
   ]
  },
  {
   "cell_type": "markdown",
   "id": "cabb0c67-debf-455b-9d54-2b6e2aa7e8ce",
   "metadata": {},
   "source": [
    "Electricity: (62)  \n",
    "relocate 2 of the 4 electricity buildings further inland  \n",
    "Food, drink, tobacco: (71)  \n",
    "relocate 7 of the 13 food, drink, tobacco industrial buildings further inland. Especially food buildings.  \n",
    "Everything else is less necessary to recovery and don't need to be relocated."
   ]
  },
  {
   "cell_type": "markdown",
   "id": "77563984-5657-4131-a33d-458ffba97e4d",
   "metadata": {},
   "source": [
    "##### Places that don't have buildings to be relocated  \n",
    "- 7024286\n",
    "- 7024287\n",
    "- 7024288\n",
    "- 7026379\n",
    "- 7026382\n",
    "- 7026438\n",
    "- 7026539\n",
    "- 7026561\n",
    "- 7026562\n",
    "- 7026564\n",
    "- 7026568\n",
    "- 7026569\n",
    "- 7026570\n",
    "- 7026579\n",
    "- 7026580\n",
    "- 7026582\n",
    "- 7026583\n",
    "- 7026584\n",
    "- 7026585\n",
    "- 7026586\n",
    "- 7026587\n",
    "- 7026588\n",
    "- 7026589\n",
    "- 7026590\n",
    "- 7026592\n",
    "- 7026593\n",
    "- 7026594\n",
    "- 7026595"
   ]
  },
  {
   "cell_type": "markdown",
   "id": "43281f9e-7880-4670-987e-d47f9a1a6baf",
   "metadata": {},
   "source": [
    "##### Get SA1 districts along the east coast by SA2 district."
   ]
  },
  {
   "cell_type": "code",
   "execution_count": 608,
   "id": "94289d8b-d182-4b5d-af5a-227a44ec4f62",
   "metadata": {},
   "outputs": [],
   "source": [
    "sa2_east = [330200, 328300, 327200, 326000]\n",
    "east_df = pd.DataFrame(sa2_east, columns = ['SA2'])\n",
    "east_df = pd.merge(christchurch, east_df, left_on='SA22018_code', right_on='SA2', how='right', validate='m:1')\n",
    "sa1_east = east_df['SA12018_V1_00']"
   ]
  },
  {
   "cell_type": "code",
   "execution_count": 610,
   "id": "9e5703f3-79f3-462e-a698-51daef4818c5",
   "metadata": {},
   "outputs": [],
   "source": [
    "important_east = {}\n",
    "for sa1 in important_places:\n",
    "    if sa1 in sa1_east:\n",
    "        important_east[sa1] = important_places[sa1]"
   ]
  },
  {
   "cell_type": "code",
   "execution_count": 612,
   "id": "11abb894-8ef7-4f39-b140-493d89bb1ccc",
   "metadata": {},
   "outputs": [],
   "source": [
    "east_lst = {}\n",
    "for sa1 in sa1_east:\n",
    "    counts = {}\n",
    "    if sa1 in important_places:\n",
    "        for code in important_places[sa1]:\n",
    "            if code in counts:\n",
    "                counts[code] = 1 + counts[code]\n",
    "            else:\n",
    "                counts[code] = 1\n",
    "        east_lst[sa1] = counts"
   ]
  },
  {
   "cell_type": "markdown",
   "id": "f97fd228-9409-4eff-9830-423927150f78",
   "metadata": {},
   "source": [
    "Relocate 2 of the electricity facilities (62) in 7026517.  \n",
    "![alternate image name](7026517.png)"
   ]
  },
  {
   "cell_type": "markdown",
   "id": "4ddbf95a-a85e-43dd-b5aa-1640157adb47",
   "metadata": {},
   "source": [
    "##### SA1: 7026464  \n",
    "![alternate image name](7026464.png)"
   ]
  },
  {
   "cell_type": "code",
   "execution_count": 616,
   "id": "cbcb6703-9769-4474-b6b9-5068ad5f6597",
   "metadata": {},
   "outputs": [],
   "source": [
    "counts = {}\n",
    "for code in important_places[7026464]:\n",
    "    if code in counts:\n",
    "        counts[code] = 1 + counts[code]\n",
    "    else:\n",
    "        counts[code] = 1"
   ]
  },
  {
   "cell_type": "code",
   "execution_count": 618,
   "id": "b4eba410-4e4e-4c4a-8afb-845f9c672218",
   "metadata": {},
   "outputs": [
    {
     "data": {
      "text/plain": [
       "{'62': 8, '65': 2}"
      ]
     },
     "execution_count": 618,
     "metadata": {},
     "output_type": "execute_result"
    }
   ],
   "source": [
    "counts"
   ]
  },
  {
   "cell_type": "markdown",
   "id": "6dacfa13-8777-4be0-b8d2-51bb8128ba69",
   "metadata": {},
   "source": [
    "Relocate 7 electricity facilities (62) into less affected areas. Move one of the sanitary facilities as well."
   ]
  },
  {
   "cell_type": "markdown",
   "id": "9a66a0b0-0d15-43ab-9fed-a92a1f508c0d",
   "metadata": {},
   "source": [
    "##### SA1: 7026563  \n",
    "![alternate image name](7026563.png)"
   ]
  },
  {
   "cell_type": "code",
   "execution_count": 622,
   "id": "c577ec57-13fb-4849-8fb3-948d915b8566",
   "metadata": {},
   "outputs": [],
   "source": [
    "counts = {}\n",
    "for code in important_places[7026563]:\n",
    "    if code in counts:\n",
    "        counts[code] = 1 + counts[code]\n",
    "    else:\n",
    "        counts[code] = 1"
   ]
  },
  {
   "cell_type": "code",
   "execution_count": 624,
   "id": "cc368076-4908-49bc-b065-3ee554ff60d9",
   "metadata": {},
   "outputs": [
    {
     "data": {
      "text/plain": [
       "{'62': 2, '42': 3}"
      ]
     },
     "execution_count": 624,
     "metadata": {},
     "output_type": "execute_result"
    }
   ],
   "source": [
    "counts"
   ]
  },
  {
   "cell_type": "markdown",
   "id": "c8aa33da-2901-40b1-8987-00c7bd63e355",
   "metadata": {},
   "source": [
    "relocate 1-2 healthcare facilities (42) to the north-western side of the area where the tsunami won't reach or to the area 7026536 to the west."
   ]
  },
  {
   "cell_type": "markdown",
   "id": "fe40d337-50f5-4e4f-b0a9-53806eb28749",
   "metadata": {},
   "source": [
    "##### SA1: 7026591  \n",
    "![alternate image name](7026591.png)"
   ]
  },
  {
   "cell_type": "code",
   "execution_count": 628,
   "id": "3d144a4b-0000-43b1-bee8-3bfd326e9900",
   "metadata": {},
   "outputs": [],
   "source": [
    "counts = {}\n",
    "for code in important_places[7026591]:\n",
    "    if code in counts:\n",
    "        counts[code] = 1 + counts[code]\n",
    "    else:\n",
    "        counts[code] = 1"
   ]
  },
  {
   "cell_type": "code",
   "execution_count": 630,
   "id": "ebc92089-e8d6-4446-b38a-5c4af3e917d9",
   "metadata": {},
   "outputs": [
    {
     "data": {
      "text/plain": [
       "{'42': 5, '62': 1}"
      ]
     },
     "execution_count": 630,
     "metadata": {},
     "output_type": "execute_result"
    }
   ],
   "source": [
    "counts"
   ]
  },
  {
   "cell_type": "markdown",
   "id": "cd38e6a6-9014-4fa9-95f0-3c0bb1e16415",
   "metadata": {},
   "source": [
    "#### Determine buildings that can be turned into vertical evacuation shelters"
   ]
  },
  {
   "cell_type": "markdown",
   "id": "c7d98ed1-662a-45dd-97af-1f83354a7f50",
   "metadata": {},
   "source": [
    "##### Parking Garages"
   ]
  },
  {
   "cell_type": "markdown",
   "id": "9dbc004a-a127-4025-992c-1c15519c75c4",
   "metadata": {},
   "source": [
    "Find all units labeled as 'parking' (32)"
   ]
  },
  {
   "cell_type": "code",
   "execution_count": 635,
   "id": "87e65d1b-d7af-4e73-a702-3dad59c8260f",
   "metadata": {},
   "outputs": [],
   "source": [
    "# get the dataframe with only rows of parking facilites\n",
    "parking_df = joined2[joined2['LandUse'] == '85']\n",
    "parking_df = parking_df.reset_index(drop = True)"
   ]
  },
  {
   "cell_type": "code",
   "execution_count": 637,
   "id": "2a0e2e89-621e-458a-9528-cd4657c7b4bd",
   "metadata": {},
   "outputs": [],
   "source": [
    "# Get list of addresses of these facilities so that I can check that these facilities are multiple level parking garages\n",
    "addresses = list(parking_df['StreetAddr'])"
   ]
  },
  {
   "cell_type": "markdown",
   "id": "0f01d312-40d0-49ca-991f-bf24dbb8ab5d",
   "metadata": {},
   "source": [
    "None of the Transport: parking (32) facilities are multistory parking garages.  \n",
    "None of the Commercial: car parking (85) facilities are multistory parking garages.  "
   ]
  },
  {
   "cell_type": "markdown",
   "id": "a70da642-5073-403b-b971-940060af6ed5",
   "metadata": {},
   "source": [
    "#### Peninsula Shelter costs  \n",
    "![alternate image name](peninsula_shelter.png)"
   ]
  },
  {
   "cell_type": "markdown",
   "id": "8ebfd944-d05b-4ab9-9d3e-5f123aa72591",
   "metadata": {},
   "source": [
    "Shelters are numbered 1-5 starting from the southernmost one. I will determine how many people each shelter needs to accomodate based on the populations of each SA1 district it is supporting."
   ]
  },
  {
   "cell_type": "markdown",
   "id": "d9a1e23f-b1d6-4978-9c6b-e6ecfec1960f",
   "metadata": {},
   "source": [
    "##### **Shelter 1**  \n",
    "*supporting:* 7026575, 7026574, 7026573, half of 7026572"
   ]
  },
  {
   "cell_type": "code",
   "execution_count": 218,
   "id": "82dedf1c-0cd6-4360-9478-14dde585e0c9",
   "metadata": {},
   "outputs": [],
   "source": [
    "shelter1 = [7026575, 7026574, 7026573, 7026572]\n",
    "shelter1_sa1 = pd.DataFrame(shelter1, columns = ['SA1'])"
   ]
  },
  {
   "cell_type": "code",
   "execution_count": 220,
   "id": "ebec8598-2257-47a4-a071-b04cc20b2930",
   "metadata": {},
   "outputs": [],
   "source": [
    "shelter1_sa1 = shelter1_sa1.merge(cc_affected, left_on = 'SA1', right_on = 'SA12018_V1')"
   ]
  },
  {
   "cell_type": "code",
   "execution_count": 222,
   "id": "281adefe-d146-4377-9a24-b1ca1d64de3c",
   "metadata": {},
   "outputs": [],
   "source": [
    "pops1 = list(shelter1_sa1['C18_CURPop'])\n",
    "pops1[3] = pops1[3] / 2"
   ]
  },
  {
   "cell_type": "code",
   "execution_count": 224,
   "id": "5fb588a1-a4e9-4ee8-8ad4-da4fa7208211",
   "metadata": {},
   "outputs": [],
   "source": [
    "shelter1_pop = sum(pops1)"
   ]
  },
  {
   "cell_type": "code",
   "execution_count": 226,
   "id": "c46e2d44-0875-490f-abc0-3262ff1e684b",
   "metadata": {},
   "outputs": [
    {
     "name": "stdout",
     "output_type": "stream",
     "text": [
      "Shelter 1 needs to support about 601.5 people.\n"
     ]
    }
   ],
   "source": [
    "print(f'Shelter 1 needs to support about {shelter1_pop} people.')"
   ]
  },
  {
   "cell_type": "markdown",
   "id": "5f0bac7e-bdd5-487a-a3ba-eb12af9f346b",
   "metadata": {},
   "source": [
    "##### **Shelter 2**  \n",
    "*supporting:* half of 7026572, 7026559, 7026560, 7026558"
   ]
  },
  {
   "cell_type": "code",
   "execution_count": 229,
   "id": "7059f4d5-903b-4a56-af14-650b4d87698b",
   "metadata": {},
   "outputs": [],
   "source": [
    "shelter2 = [7026572, 7026559, 7026560, 7026558]\n",
    "shelter2_sa1 = pd.DataFrame(shelter2, columns = ['SA1'])"
   ]
  },
  {
   "cell_type": "code",
   "execution_count": 231,
   "id": "83784117-abaa-4acf-b52f-1b8758c96758",
   "metadata": {},
   "outputs": [],
   "source": [
    "shelter2_sa1 = shelter2_sa1.merge(cc_affected, left_on = 'SA1', right_on = 'SA12018_V1')"
   ]
  },
  {
   "cell_type": "code",
   "execution_count": 233,
   "id": "cee5b5ae-271d-4240-9ccf-a3c9404c2111",
   "metadata": {},
   "outputs": [],
   "source": [
    "pops2 = list(shelter1_sa1['C18_CURPop'])\n",
    "pops2[3] = pops2[0] / 2"
   ]
  },
  {
   "cell_type": "code",
   "execution_count": 235,
   "id": "e52d4439-867d-429e-8437-4fa77b126fa1",
   "metadata": {},
   "outputs": [],
   "source": [
    "shelter2_pop = sum(pops2)"
   ]
  },
  {
   "cell_type": "code",
   "execution_count": 237,
   "id": "7070c4f4-3a4f-4476-9fbb-c8561bd0d5ae",
   "metadata": {},
   "outputs": [
    {
     "name": "stdout",
     "output_type": "stream",
     "text": [
      "Shelter 2 needs to support about 595.5 people.\n"
     ]
    }
   ],
   "source": [
    "print(f'Shelter 2 needs to support about {shelter2_pop} people.')"
   ]
  },
  {
   "cell_type": "markdown",
   "id": "87ef152b-c0ec-413b-af43-d6a964e16c98",
   "metadata": {},
   "source": [
    "##### **Shelter 3**  \n",
    "*supporting:* 7026556, 7026555, 7026554, 7026557"
   ]
  },
  {
   "cell_type": "code",
   "execution_count": 240,
   "id": "822d4417-9e32-4a96-9870-e643e9b14d21",
   "metadata": {},
   "outputs": [],
   "source": [
    "shelter3 = [7026556, 7026555, 7026554, 7026557]\n",
    "shelter3_sa1 = pd.DataFrame(shelter3, columns = ['SA1'])"
   ]
  },
  {
   "cell_type": "code",
   "execution_count": 242,
   "id": "89a6b1b7-7d40-41cd-9d02-30ebc5ec1de8",
   "metadata": {},
   "outputs": [],
   "source": [
    "shelter3_sa1 = shelter3_sa1.merge(cc_affected, left_on = 'SA1', right_on = 'SA12018_V1')"
   ]
  },
  {
   "cell_type": "code",
   "execution_count": 244,
   "id": "11c4a75f-2ae0-49ba-b99d-35a3b432ec30",
   "metadata": {},
   "outputs": [],
   "source": [
    "pops3 = list(shelter3_sa1['C18_CURPop'])"
   ]
  },
  {
   "cell_type": "code",
   "execution_count": 245,
   "id": "4f942905-a438-433e-8f14-a045c6a09a33",
   "metadata": {},
   "outputs": [],
   "source": [
    "shelter3_pop = sum(pops3)"
   ]
  },
  {
   "cell_type": "code",
   "execution_count": 248,
   "id": "ef2b33bc-6944-47a7-a076-3e831d72e782",
   "metadata": {},
   "outputs": [
    {
     "name": "stdout",
     "output_type": "stream",
     "text": [
      "Shelter 3 needs to support about 657.0 people.\n"
     ]
    }
   ],
   "source": [
    "print(f'Shelter 3 needs to support about {shelter3_pop} people.')"
   ]
  },
  {
   "cell_type": "markdown",
   "id": "cc121eab-c6e7-4103-83b6-8fd8ec041200",
   "metadata": {},
   "source": [
    "##### Shelter 4  \n",
    "*supporting:* 7026553, 7026552, 7026550, 7026551"
   ]
  },
  {
   "cell_type": "code",
   "execution_count": 251,
   "id": "ad0265f4-bffa-40af-b57c-0fe13dacbfd7",
   "metadata": {},
   "outputs": [],
   "source": [
    "shelter4 = [7026553, 7026552, 7026550, 7026551]\n",
    "shelter4_sa1 = pd.DataFrame(shelter4, columns = ['SA1'])"
   ]
  },
  {
   "cell_type": "code",
   "execution_count": 253,
   "id": "8211ce2d-0d13-4231-bbda-d27122399dce",
   "metadata": {},
   "outputs": [],
   "source": [
    "shelter4_sa1 = shelter4_sa1.merge(cc_affected, left_on = 'SA1', right_on = 'SA12018_V1')"
   ]
  },
  {
   "cell_type": "code",
   "execution_count": 255,
   "id": "abaf5025-0f01-445e-a18f-24c300f5a8d4",
   "metadata": {},
   "outputs": [],
   "source": [
    "pops4 = list(shelter4_sa1['C18_CURPop'])\n",
    "shelter4_pop = sum(pops4)"
   ]
  },
  {
   "cell_type": "code",
   "execution_count": 257,
   "id": "f382f317-6aa3-4490-807d-a5ffbfeedd1a",
   "metadata": {},
   "outputs": [
    {
     "name": "stdout",
     "output_type": "stream",
     "text": [
      "Shelter 4 needs to support about 516.0 people.\n"
     ]
    }
   ],
   "source": [
    "print(f'Shelter 4 needs to support about {shelter4_pop} people.')"
   ]
  },
  {
   "cell_type": "markdown",
   "id": "e43529b5-4ddf-45bc-bc6f-798d19bf81d0",
   "metadata": {},
   "source": [
    "##### Shelter 5  \n",
    "*supporting:* 7026549, 7026546, 7026548, 7026531"
   ]
  },
  {
   "cell_type": "code",
   "execution_count": 260,
   "id": "9778f30e-a19f-4ffb-ade3-f9399a8c98e6",
   "metadata": {},
   "outputs": [],
   "source": [
    "shelter5 = [7026549, 7026546, 7026548, 7026531]\n",
    "shelter5_sa1 = pd.DataFrame(shelter5, columns = ['SA1'])"
   ]
  },
  {
   "cell_type": "code",
   "execution_count": 262,
   "id": "906d4a2a-4556-4881-b258-64f18ee99f80",
   "metadata": {},
   "outputs": [],
   "source": [
    "shelter5_sa1 = shelter5_sa1.merge(cc_affected, left_on = 'SA1', right_on = 'SA12018_V1')"
   ]
  },
  {
   "cell_type": "code",
   "execution_count": 264,
   "id": "81615a03-1b70-4f48-a29c-6d20f3122756",
   "metadata": {},
   "outputs": [],
   "source": [
    "pops5 = list(shelter5_sa1['C18_CURPop'])\n",
    "shelter5_pop = sum(pops5)"
   ]
  },
  {
   "cell_type": "code",
   "execution_count": 266,
   "id": "575f24fc-306b-4741-a699-29c3285011de",
   "metadata": {},
   "outputs": [
    {
     "name": "stdout",
     "output_type": "stream",
     "text": [
      "Shelter 5 needs to support about 510.0 people.\n"
     ]
    }
   ],
   "source": [
    "print(f'Shelter 5 needs to support about {shelter5_pop} people.')"
   ]
  },
  {
   "cell_type": "markdown",
   "id": "1e5098fa-e351-4d84-992d-aa2315e2b3ca",
   "metadata": {},
   "source": [
    "##### Shelter 6  \n",
    "*supporting:* 7026534, 7026547, 7026533, 7026532"
   ]
  },
  {
   "cell_type": "code",
   "execution_count": 269,
   "id": "99282990-0641-4e74-b24c-27db071d4656",
   "metadata": {},
   "outputs": [],
   "source": [
    "shelter6 = [7026534, 7026547, 7026533, 7026532]\n",
    "shelter6_sa1 = pd.DataFrame(shelter6, columns = ['SA1'])"
   ]
  },
  {
   "cell_type": "code",
   "execution_count": 271,
   "id": "fb12846d-b8ad-4b89-938f-3edb340a15a3",
   "metadata": {},
   "outputs": [],
   "source": [
    "shelter6_sa1 = shelter6_sa1.merge(cc_affected, left_on = 'SA1', right_on = 'SA12018_V1')"
   ]
  },
  {
   "cell_type": "code",
   "execution_count": 273,
   "id": "09fc4ec8-25be-4999-a21f-3860724609d5",
   "metadata": {},
   "outputs": [],
   "source": [
    "pops6 = list(shelter6_sa1['C18_CURPop'])\n",
    "shelter6_pop = sum(pops6)"
   ]
  },
  {
   "cell_type": "code",
   "execution_count": 275,
   "id": "4587d59d-3c7a-4989-b654-31eb95ea4b67",
   "metadata": {},
   "outputs": [
    {
     "name": "stdout",
     "output_type": "stream",
     "text": [
      "Shelter 6 needs to support about 684.0 people.\n"
     ]
    }
   ],
   "source": [
    "print(f'Shelter 6 needs to support about {shelter6_pop} people.')"
   ]
  },
  {
   "cell_type": "markdown",
   "id": "c3563b4d-cc89-49e1-8e77-6963807066b0",
   "metadata": {},
   "source": [
    "##### Shelter 7  \n",
    "*supporting:* 7026545, 7026530, 7026529, 7026528, 7026527"
   ]
  },
  {
   "cell_type": "code",
   "execution_count": 278,
   "id": "05a52317-2a67-41fc-b978-8ac46616c0ef",
   "metadata": {},
   "outputs": [],
   "source": [
    "shelter7 = [7026545, 7026530, 7026529, 7026528, 7026527]\n",
    "shelter7_sa1 = pd.DataFrame(shelter7, columns = ['SA1'])"
   ]
  },
  {
   "cell_type": "code",
   "execution_count": 280,
   "id": "a0d9c2be-d325-4eca-9cd1-cd0c55510728",
   "metadata": {},
   "outputs": [],
   "source": [
    "shelter7_sa1 = shelter7_sa1.merge(cc_affected, left_on = 'SA1', right_on = 'SA12018_V1')"
   ]
  },
  {
   "cell_type": "code",
   "execution_count": 282,
   "id": "64c07e07-ffaf-4533-a519-fab8da524a77",
   "metadata": {},
   "outputs": [],
   "source": [
    "pops7 = list(shelter7_sa1['C18_CURPop'])\n",
    "shelter7_pop = sum(pops7)"
   ]
  },
  {
   "cell_type": "code",
   "execution_count": 284,
   "id": "f4b23ed9-3f33-4427-b2db-6db93b142b42",
   "metadata": {},
   "outputs": [
    {
     "name": "stdout",
     "output_type": "stream",
     "text": [
      "Shelter 7 needs to support about 756.0 people.\n"
     ]
    }
   ],
   "source": [
    "print(f'Shelter 7 needs to support about {shelter7_pop} people.')"
   ]
  },
  {
   "cell_type": "markdown",
   "id": "f2c3eb33-d042-4a02-92a2-239cfdceb3ea",
   "metadata": {},
   "source": [
    "##### Shelter 8  \n",
    "*supporting:* 7026525, 7026524, 7026526, 7026523, 7026520, 7026522"
   ]
  },
  {
   "cell_type": "code",
   "execution_count": 287,
   "id": "11373279-9589-4b5f-b7e6-173ada262373",
   "metadata": {},
   "outputs": [],
   "source": [
    "shelter8 = [7026525, 7026524, 7026526, 7026523, 7026520, 7026522]\n",
    "shelter8_sa1 = pd.DataFrame(shelter8, columns = ['SA1'])"
   ]
  },
  {
   "cell_type": "code",
   "execution_count": 289,
   "id": "32767270-6e6e-4839-82b5-bcbc8fb18f1b",
   "metadata": {},
   "outputs": [],
   "source": [
    "shelter8_sa1 = shelter8_sa1.merge(cc_affected, left_on = 'SA1', right_on = 'SA12018_V1')"
   ]
  },
  {
   "cell_type": "code",
   "execution_count": 291,
   "id": "d235f1fd-48f5-4d0e-8c3c-9de51621885b",
   "metadata": {},
   "outputs": [],
   "source": [
    "pops8 = list(shelter8_sa1['C18_CURPop'])\n",
    "shelter8_pop = sum(pops8)"
   ]
  },
  {
   "cell_type": "code",
   "execution_count": 293,
   "id": "07767168-2497-4be7-a212-e21391b1418b",
   "metadata": {},
   "outputs": [
    {
     "name": "stdout",
     "output_type": "stream",
     "text": [
      "Shelter 8 needs to support about 888.0 people.\n"
     ]
    }
   ],
   "source": [
    "print(f'Shelter 8 needs to support about {shelter8_pop} people.')"
   ]
  },
  {
   "cell_type": "markdown",
   "id": "ede45be2-f1e4-46ea-ada7-09ad25e19de2",
   "metadata": {},
   "source": [
    "##### Calculating the volume of soil berms"
   ]
  },
  {
   "cell_type": "code",
   "execution_count": 296,
   "id": "431498d4-b68e-4761-aeaf-bfab7538a946",
   "metadata": {},
   "outputs": [],
   "source": [
    "floor = 700 * 20 / .85"
   ]
  },
  {
   "cell_type": "code",
   "execution_count": 1205,
   "id": "1e5a9d8e-f3c5-485f-ba6e-de80735403bb",
   "metadata": {},
   "outputs": [
    {
     "data": {
      "text/plain": [
       "72.40684405880809"
      ]
     },
     "execution_count": 1205,
     "metadata": {},
     "output_type": "execute_result"
    }
   ],
   "source": [
    "floor_r"
   ]
  },
  {
   "cell_type": "code",
   "execution_count": 298,
   "id": "f563bff2-f34b-4c35-ad9d-8532b06e881c",
   "metadata": {},
   "outputs": [],
   "source": [
    "floor_r = math.sqrt(floor / math.pi)"
   ]
  },
  {
   "cell_type": "code",
   "execution_count": 300,
   "id": "e3f7d0da-1083-4ec8-9f93-ecc777adf06b",
   "metadata": {},
   "outputs": [],
   "source": [
    "height = 73.5"
   ]
  },
  {
   "cell_type": "code",
   "execution_count": 1139,
   "id": "2af44714-7874-4601-b03b-9030f90264b9",
   "metadata": {},
   "outputs": [],
   "source": [
    "base_r = 4 * height + floor_r"
   ]
  },
  {
   "cell_type": "code",
   "execution_count": 1141,
   "id": "a7f7d51e-07fe-415a-afa7-6845a88bb209",
   "metadata": {},
   "outputs": [],
   "source": [
    "base = (base_r)**2 * math.pi"
   ]
  },
  {
   "cell_type": "code",
   "execution_count": 1207,
   "id": "955c077b-0df6-4691-8b50-03987030c6a0",
   "metadata": {},
   "outputs": [
    {
     "data": {
      "text/plain": [
       "366.4068440588081"
      ]
     },
     "execution_count": 1207,
     "metadata": {},
     "output_type": "execute_result"
    }
   ],
   "source": [
    "base_r"
   ]
  },
  {
   "cell_type": "code",
   "execution_count": 1143,
   "id": "2acfa475-5621-4d2e-843f-40ede11b413a",
   "metadata": {},
   "outputs": [],
   "source": [
    "volume = (1/3) * math.pi * height * (floor_r**2 + floor_r * base_r + base_r**2)"
   ]
  },
  {
   "cell_type": "code",
   "execution_count": 1203,
   "id": "e9cfe5fc-4c12-44eb-8828-3b51d24ce971",
   "metadata": {},
   "outputs": [
    {
     "data": {
      "text/plain": [
       "12778942.386696842"
      ]
     },
     "execution_count": 1203,
     "metadata": {},
     "output_type": "execute_result"
    }
   ],
   "source": [
    "volume"
   ]
  },
  {
   "cell_type": "code",
   "execution_count": 1145,
   "id": "1e1dfc4a-3a9f-45dd-a507-efd6f32799e7",
   "metadata": {},
   "outputs": [],
   "source": [
    "price = (volume/height/3)/5 * ((19 + 204) / 2)"
   ]
  },
  {
   "cell_type": "code",
   "execution_count": 1147,
   "id": "e1ac7084-42cf-4d34-826d-a1c7f6f5080a",
   "metadata": {},
   "outputs": [
    {
     "data": {
      "text/plain": [
       "1292382.835479998"
      ]
     },
     "execution_count": 1147,
     "metadata": {},
     "output_type": "execute_result"
    }
   ],
   "source": [
    "price"
   ]
  },
  {
   "cell_type": "code",
   "execution_count": 1149,
   "id": "45b62c01-e4ff-4a1f-bec4-7aad2b8bfcd0",
   "metadata": {},
   "outputs": [],
   "source": [
    "price_nzd = 2155996"
   ]
  },
  {
   "cell_type": "code",
   "execution_count": 1173,
   "id": "ea015b4c-1f65-47d5-b015-3da17c5003c6",
   "metadata": {},
   "outputs": [],
   "source": [
    "shelter_cost = price_nzd * 8"
   ]
  },
  {
   "cell_type": "markdown",
   "id": "1975348d-b14c-4802-a33d-09ca8947c155",
   "metadata": {},
   "source": [
    "It will cost about 879,000 USD to build a single berm. That is about 1,477,401 NZD per berm."
   ]
  },
  {
   "cell_type": "markdown",
   "id": "0d0879f4-837a-495a-bfb0-fd5a574d7914",
   "metadata": {},
   "source": [
    "This means that 8 berms will cost about $11,819,208."
   ]
  },
  {
   "cell_type": "markdown",
   "id": "02597a37-8d6d-44df-b926-fc00cc640738",
   "metadata": {},
   "source": [
    "##### Relocation Pricing"
   ]
  },
  {
   "cell_type": "markdown",
   "id": "588d9521-eb4f-419f-bc15-2219c69607da",
   "metadata": {},
   "source": [
    "I am assuming that the price of relocation is the same as the capital value"
   ]
  },
  {
   "cell_type": "code",
   "execution_count": 642,
   "id": "5426776f-ec59-42aa-999a-820047cd2c6b",
   "metadata": {},
   "outputs": [],
   "source": [
    "sa1_relocate = [7026560, 7026517, 7026464, 7026563, 7026591]\n",
    "sa1_relocate_df = pd.DataFrame(sa1_relocate, columns = ['SA1'])\n",
    "relocate_buildings = pd.merge(joined2, sa1_relocate_df, left_on='SA12018_V1', right_on='SA1', how='right', validate='m:1')"
   ]
  },
  {
   "cell_type": "code",
   "execution_count": 644,
   "id": "c78bc22f-99bf-4e69-9786-97c75651ebe0",
   "metadata": {},
   "outputs": [],
   "source": [
    "cap_val = {}\n",
    "codes = ['62', '65', '42']\n",
    "for index, row in relocate_buildings.iterrows():\n",
    "    sa1 = row['SA12018_V1']\n",
    "    use_code = row['LandUse']\n",
    "    if use_code in codes:\n",
    "        if sa1 in cap_val:\n",
    "            if use_code in cap_val[sa1]:\n",
    "                cap_val[sa1][use_code].append(row['CapitalVal'])\n",
    "            else:\n",
    "                cap_val[sa1][use_code] = [row['CapitalVal']]\n",
    "        else:\n",
    "            cap_val[sa1] = {}\n",
    "            cap_val[sa1][use_code] = [row['CapitalVal']]\n",
    "\n",
    "for sa1 in cap_val:\n",
    "    for code in cap_val[sa1]:\n",
    "        cap_val[sa1][code] = sorted(cap_val[sa1][code])"
   ]
  },
  {
   "cell_type": "code",
   "execution_count": 646,
   "id": "18d35805-c330-40cc-a5e8-d5b7672da83d",
   "metadata": {},
   "outputs": [
    {
     "data": {
      "text/plain": [
       "{7026560: {'62': [5500.0, 5500.0, 5500.0]},\n",
       " 7026517: {'62': [10000.0, 10000.0, 165000.0]},\n",
       " 7026464: {'62': [200.0, 200.0, 200.0, 200.0, 200.0, 200.0, 200.0, 990000.0],\n",
       "  '65': [66500.0, 90000.0]},\n",
       " 7026563: {'62': [7500.0, 7500.0], '42': [570000.0, 820000.0, 1710000.0]},\n",
       " 7026591: {'42': [165000.0, 165000.0, 180000.0, 180000.0, 7610000.0],\n",
       "  '62': [130000.0]}}"
      ]
     },
     "execution_count": 646,
     "metadata": {},
     "output_type": "execute_result"
    }
   ],
   "source": [
    "cap_val"
   ]
  },
  {
   "cell_type": "code",
   "execution_count": 648,
   "id": "8d84fe5c-52ab-43a4-9120-dd76689a86e5",
   "metadata": {},
   "outputs": [],
   "source": [
    "# get the total cost of moving all buildings\n",
    "relocation_cost = 0\n",
    "for sa1 in cap_val:\n",
    "    for code in cap_val[sa1]:\n",
    "        for i in range(0, len(cap_val[sa1]) - 1):\n",
    "            relocation_cost = relocation_cost + cap_val[sa1][code][i]"
   ]
  },
  {
   "cell_type": "code",
   "execution_count": 650,
   "id": "1872b3bf-5079-4a64-99ff-5212ff0728e9",
   "metadata": {},
   "outputs": [
    {
     "name": "stdout",
     "output_type": "stream",
     "text": [
      "It will take about $939200.0 to relocate the important buildings\n"
     ]
    }
   ],
   "source": [
    "print(f'It will take about ${relocation_cost} to relocate the important buildings')"
   ]
  },
  {
   "cell_type": "markdown",
   "id": "ca33660c-6e8b-4c83-8347-7fd4ac55c812",
   "metadata": {},
   "source": [
    "Raise all floorings in important buildings in most most affected areas. To do this calculate sum of 1/4 of capital values and see how much it costs."
   ]
  },
  {
   "cell_type": "code",
   "execution_count": 1399,
   "id": "2afda008-127b-4f58-83e5-3a50e894ed61",
   "metadata": {},
   "outputs": [],
   "source": [
    "sa1_raise_floors = [7026568, 7026570, 7026569, 7026582, 7026583, 7026584, 7026585, 7026586, 7026587, 7026588, 7026589, 7026591, 7026590, 7026592, 7026593, 7026594, 7026595, 7026579,\n",
    "                    7026580, 7026561, 7026564, 7026563]\n",
    "sa2_raise_floors = [331700, 330200]\n",
    "# get the SA1 numbers for the SA2 districts\n",
    "sa2_floors_df = pd.DataFrame(sa2_raise_floors, columns = ['SA2'])\n",
    "get_sa1 = pd.merge(cc_affected, sa2_floors_df, left_on = 'SA22018_code', right_on = 'SA2', validate = 'm:1')\n",
    "sa1_sa2_raise_floors = sa1_raise_floors + list(get_sa1['SA12018_V1'])"
   ]
  },
  {
   "cell_type": "code",
   "execution_count": 1413,
   "id": "d2f3d9c2-c7c9-458e-9fe8-ec3c295d70cb",
   "metadata": {},
   "outputs": [],
   "source": [
    "sa1_floors_df = pd.DataFrame(sa1_raise_floors, columns = ['SA1'])\n",
    "sa1_sa2_floors_df = pd.DataFrame(sa1_sa2_raise_floors, columns = ['SA1'])\n",
    "sa1_raise_floors_df = pd.merge(joined2, sa1_floors_df, left_on = 'SA12018_V1', right_on = 'SA1')\n",
    "sa1_sa2_raise_floors_df = pd.merge(joined2, sa1_sa2_floors_df, left_on = 'SA12018_V1', right_on = 'SA1')"
   ]
  },
  {
   "cell_type": "code",
   "execution_count": 1405,
   "id": "ad49ef43-4f76-473f-b9d8-561cf4a0cf26",
   "metadata": {},
   "outputs": [],
   "source": [
    "raise_floor_cost = 0\n",
    "capital_vals = []\n",
    "for index, row in sa1_raise_floors_df.iterrows():\n",
    "    landuse = row['LandUse']\n",
    "    if not pd.isnull(landuse):\n",
    "        if is_important(landuse):\n",
    "            val = row['CapitalVal']\n",
    "            raise_floor_cost = raise_floor_cost + (val * 0.25)\n",
    "            capital_vals.append(val * 0.25)"
   ]
  },
  {
   "cell_type": "code",
   "execution_count": 1415,
   "id": "eac09f0a-7553-4cd4-98b9-d525392a7d73",
   "metadata": {},
   "outputs": [],
   "source": [
    "raise_floor_cost = 0\n",
    "capital_vals = []\n",
    "for index, row in sa1_sa2_raise_floors_df.iterrows():\n",
    "    landuse = row['LandUse']\n",
    "    if not pd.isnull(landuse):\n",
    "        if is_important(landuse):\n",
    "            val = row['CapitalVal']\n",
    "            raise_floor_cost = raise_floor_cost + (val * 0.25)\n",
    "            capital_vals.append(val * 0.25)"
   ]
  },
  {
   "cell_type": "markdown",
   "id": "fd1f956a-e506-411b-861b-cb9ffe025a52",
   "metadata": {},
   "source": [
    "Get map of places where important buildings are adapted"
   ]
  },
  {
   "cell_type": "code",
   "execution_count": 1428,
   "id": "dfd2dad2-fd85-43e4-bedd-035d2980fe94",
   "metadata": {},
   "outputs": [],
   "source": [
    "adapted_buildings_df = cc_affected.merge(sa1_sa2_floors_df, left_on = 'SA12018_V1', right_on = 'SA1')"
   ]
  },
  {
   "cell_type": "code",
   "execution_count": 1430,
   "id": "9b501771-1c73-480e-a846-7e2c127cdfbb",
   "metadata": {},
   "outputs": [],
   "source": [
    "adapted_buildings_df.to_file('../NZ_Data/case_study/christchurch/adapted_buildings.geojson', driver = 'GeoJSON')"
   ]
  },
  {
   "cell_type": "code",
   "execution_count": 1417,
   "id": "2eeac808-5d3e-4965-a234-7c092fbefe1b",
   "metadata": {},
   "outputs": [],
   "source": [
    "capital_vals = sorted(capital_vals, reverse = True)"
   ]
  },
  {
   "cell_type": "code",
   "execution_count": 1419,
   "id": "fdfc81ee-b99a-4bae-b184-b42c7a1d448f",
   "metadata": {},
   "outputs": [
    {
     "data": {
      "text/plain": [
       "4119412.5"
      ]
     },
     "execution_count": 1419,
     "metadata": {},
     "output_type": "execute_result"
    }
   ],
   "source": [
    "raise_floor_cost"
   ]
  },
  {
   "cell_type": "code",
   "execution_count": 343,
   "id": "497a6710-bf82-47f9-b512-a14c4861ea00",
   "metadata": {},
   "outputs": [],
   "source": [
    "total_plan1 = raise_floor_cost + relocation_cost + shelter_cost"
   ]
  },
  {
   "cell_type": "markdown",
   "id": "6e4394ba-a116-4077-a84f-888cc90e5edb",
   "metadata": {},
   "source": [
    "##### Vulnerable Population"
   ]
  },
  {
   "cell_type": "markdown",
   "id": "86f5d012-238f-45d6-8c54-d706ffba1e57",
   "metadata": {},
   "source": [
    "Determine how much it will cost to raise the floors on houses in SA1 districts with vulnerable populations."
   ]
  },
  {
   "cell_type": "code",
   "execution_count": 422,
   "id": "4c42ecde-66ab-42cb-8a3c-ca6274cb5a51",
   "metadata": {},
   "outputs": [],
   "source": [
    "sa1_disability = [7026591, 7026371, 7026369]\n",
    "sa1_disability_df = pd.DataFrame(sa1_disability, columns = ['SA1'])\n",
    "sa1_disability_floors_df = pd.merge(joined2, sa1_disability_df, left_on = 'SA12018_V1', right_on = 'SA1')"
   ]
  },
  {
   "cell_type": "code",
   "execution_count": 424,
   "id": "4e1cb466-8482-4397-8d64-8d92d651fc82",
   "metadata": {},
   "outputs": [],
   "source": [
    "sa1_disability_floors = 0\n",
    "capital_vals = []\n",
    "for index, row in sa1_disability_floors_df.iterrows():\n",
    "    landuse = row['LandUse']\n",
    "    if not pd.isnull(landuse):\n",
    "        if landuse[0] == '9':\n",
    "            val = row['CapitalVal']\n",
    "            sa1_disability_floors = sa1_disability_floors + (val * 0.25)\n",
    "            capital_vals.append(val * 0.25)"
   ]
  },
  {
   "cell_type": "markdown",
   "id": "3dad1ac3-8bfd-4b04-b736-af9323e4740b",
   "metadata": {},
   "source": [
    "Figure out how many more vertical evacuation shelters we can build."
   ]
  },
  {
   "cell_type": "code",
   "execution_count": 352,
   "id": "e34c626c-6549-400f-96d3-3b92ebfacb2f",
   "metadata": {},
   "outputs": [],
   "source": [
    "shelters_left = (30000000 - total_plan1) / price_nzd"
   ]
  },
  {
   "cell_type": "code",
   "execution_count": 354,
   "id": "d5809cbb-4224-41b9-ac93-34481b57398b",
   "metadata": {},
   "outputs": [
    {
     "name": "stdout",
     "output_type": "stream",
     "text": [
      "We can build 8 more shelters.\n"
     ]
    }
   ],
   "source": [
    "print(f'We can build {int(shelters_left)} more shelters.')"
   ]
  },
  {
   "cell_type": "markdown",
   "id": "47ddb35a-a4ec-41a4-8fe6-c3b056c56733",
   "metadata": {},
   "source": [
    "#### Shelters on the Southern Coast"
   ]
  },
  {
   "cell_type": "markdown",
   "id": "9cb3dffc-2d35-43f9-8232-3ea3969864b7",
   "metadata": {},
   "source": [
    "Shelters are labeled from south to north."
   ]
  },
  {
   "cell_type": "markdown",
   "id": "7dea2263-dd6d-4b62-9559-449f4c9817b9",
   "metadata": {
    "jp-MarkdownHeadingCollapsed": true
   },
   "source": [
    "##### Shelter 9   \n",
    "*supporting:* 7026580, 7026579, 7026595, 7016594"
   ]
  },
  {
   "cell_type": "code",
   "execution_count": 373,
   "id": "8925eff9-6f82-41c0-a8c7-78b2b97b0723",
   "metadata": {},
   "outputs": [],
   "source": [
    "shelter9 = [7026580, 7026579, 7026595, 7016594]\n",
    "shelter9_sa1 = pd.DataFrame(shelter9, columns = ['SA1'])"
   ]
  },
  {
   "cell_type": "code",
   "execution_count": 375,
   "id": "bca34511-75ad-4da0-84da-a3428d40c302",
   "metadata": {},
   "outputs": [],
   "source": [
    "shelter9_sa1 = shelter9_sa1.merge(cc_affected, left_on = 'SA1', right_on = 'SA12018_V1')"
   ]
  },
  {
   "cell_type": "code",
   "execution_count": 377,
   "id": "28049700-f332-4bf2-ae83-80883a1d4e62",
   "metadata": {},
   "outputs": [],
   "source": [
    "pops9 = list(shelter9_sa1['C18_CURPop'])\n",
    "shelter9_pop = sum(pops9)"
   ]
  },
  {
   "cell_type": "code",
   "execution_count": 379,
   "id": "c6a5af82-11c0-4930-b9e3-3aee3b1b9153",
   "metadata": {},
   "outputs": [
    {
     "name": "stdout",
     "output_type": "stream",
     "text": [
      "Shelter 9 needs to support about 714.0 people.\n"
     ]
    }
   ],
   "source": [
    "print(f'Shelter 9 needs to support about {shelter9_pop} people.')"
   ]
  },
  {
   "cell_type": "markdown",
   "id": "200413da-2eab-4c8f-a28e-768f034e5d9e",
   "metadata": {
    "jp-MarkdownHeadingCollapsed": true
   },
   "source": [
    "##### Shelter 10  \n",
    "*supporting:* 7026593, 7026592, 7026588, 7026589, 7026587, 7026590"
   ]
  },
  {
   "cell_type": "code",
   "execution_count": 384,
   "id": "b2e20914-387f-4e42-aa78-c0a5778e6450",
   "metadata": {},
   "outputs": [],
   "source": [
    "shelter10 = [7026593, 7026592, 7026588, 7026589, 7026587, 7026590]\n",
    "shelter10_sa1 = pd.DataFrame(shelter10, columns = ['SA1'])"
   ]
  },
  {
   "cell_type": "code",
   "execution_count": 386,
   "id": "83ae3a23-9029-4336-b073-e84aede4e8f0",
   "metadata": {},
   "outputs": [],
   "source": [
    "shelter10_sa1 = shelter10_sa1.merge(cc_affected, left_on = 'SA1', right_on = 'SA12018_V1')"
   ]
  },
  {
   "cell_type": "code",
   "execution_count": 388,
   "id": "5f7772e0-4edb-4768-9649-b91c4bde2f89",
   "metadata": {},
   "outputs": [],
   "source": [
    "pops10 = list(shelter10_sa1['C18_CURPop'])\n",
    "shelter10_pop = sum(pops10)"
   ]
  },
  {
   "cell_type": "code",
   "execution_count": 390,
   "id": "a2139222-71df-46c1-a3b0-c5a6b7e0e688",
   "metadata": {},
   "outputs": [
    {
     "name": "stdout",
     "output_type": "stream",
     "text": [
      "Shelter 10 needs to support about 789.0 people.\n"
     ]
    }
   ],
   "source": [
    "print(f'Shelter 10 needs to support about {shelter10_pop} people.')"
   ]
  },
  {
   "cell_type": "markdown",
   "id": "c8ea1fae-58c5-4fbd-b8b4-9300017dd8b5",
   "metadata": {
    "jp-MarkdownHeadingCollapsed": true
   },
   "source": [
    "##### Shelter 11  \n",
    "*supporting:* 7026586, 7026585, 7026584, 7026582, 7026583"
   ]
  },
  {
   "cell_type": "code",
   "execution_count": 394,
   "id": "ec4a5a23-9902-4e14-9d78-b5efa18e414a",
   "metadata": {},
   "outputs": [],
   "source": [
    "shelter11 = [7026586, 7026585, 7026584, 7026582, 7026583]\n",
    "shelter11_sa1 = pd.DataFrame(shelter11, columns = ['SA1'])"
   ]
  },
  {
   "cell_type": "code",
   "execution_count": 396,
   "id": "d1b0bc4f-6511-4d5f-b9f1-cb5c47cdddbd",
   "metadata": {},
   "outputs": [],
   "source": [
    "shelter11_sa1 = shelter11_sa1.merge(cc_affected, left_on = 'SA1', right_on = 'SA12018_V1')"
   ]
  },
  {
   "cell_type": "code",
   "execution_count": 398,
   "id": "37f3ff93-894c-4d4e-b4fb-f0b1d52f1d6f",
   "metadata": {},
   "outputs": [],
   "source": [
    "pops11 = list(shelter11_sa1['C18_CURPop'])\n",
    "shelter11_pop = sum(pops11)"
   ]
  },
  {
   "cell_type": "code",
   "execution_count": 400,
   "id": "b3b5c4de-1301-40d8-948a-ae73331a95ba",
   "metadata": {},
   "outputs": [
    {
     "name": "stdout",
     "output_type": "stream",
     "text": [
      "Shelter 11 needs to support about 765.0 people.\n"
     ]
    }
   ],
   "source": [
    "print(f'Shelter 11 needs to support about {shelter11_pop} people.')"
   ]
  },
  {
   "cell_type": "code",
   "execution_count": 1189,
   "id": "557edf94-4ead-4984-beaf-fbdb4441eb05",
   "metadata": {},
   "outputs": [],
   "source": [
    "south_shelter_cost = price_nzd * 3"
   ]
  },
  {
   "cell_type": "markdown",
   "id": "e052073b-72e4-4eb1-a62b-553b310092b1",
   "metadata": {},
   "source": [
    "Add 3 more structures on the east coast"
   ]
  },
  {
   "cell_type": "code",
   "execution_count": 1171,
   "id": "baa9354b-295f-4682-a5e9-a7b199d9fed2",
   "metadata": {},
   "outputs": [],
   "source": [
    "east_shelter_cost = price_nzd * 3"
   ]
  },
  {
   "cell_type": "code",
   "execution_count": 1191,
   "id": "7b068538-2acc-4054-923a-52f1de05bad1",
   "metadata": {},
   "outputs": [],
   "source": [
    "plan1_total_cost = shelter_cost + south_shelter_cost + raise_floor_cost + relocation_cost + piles_cost"
   ]
  },
  {
   "cell_type": "code",
   "execution_count": 1199,
   "id": "2b200474-22f8-4c4d-8ec0-c23bd10bf83a",
   "metadata": {},
   "outputs": [
    {
     "data": {
      "text/plain": [
       "23715956"
      ]
     },
     "execution_count": 1199,
     "metadata": {},
     "output_type": "execute_result"
    }
   ],
   "source": [
    "price_nzd * 11"
   ]
  },
  {
   "cell_type": "code",
   "execution_count": 1193,
   "id": "d86443cf-6837-44ba-8597-9d98afedaa27",
   "metadata": {},
   "outputs": [
    {
     "data": {
      "text/plain": [
       "29588828.321788788"
      ]
     },
     "execution_count": 1193,
     "metadata": {},
     "output_type": "execute_result"
    }
   ],
   "source": [
    "plan1_total_cost"
   ]
  },
  {
   "cell_type": "code",
   "execution_count": 862,
   "id": "a13136e4-db3f-49aa-9473-0316f7ad4606",
   "metadata": {},
   "outputs": [
    {
     "data": {
      "text/plain": [
       "939200.0"
      ]
     },
     "execution_count": 862,
     "metadata": {},
     "output_type": "execute_result"
    }
   ],
   "source": [
    "relocation_cost"
   ]
  },
  {
   "cell_type": "markdown",
   "id": "f3e58593-324d-4f36-8a71-b1dab9665065",
   "metadata": {},
   "source": [
    "##### Reinforce Important buildings in most affected areas by giving them concrete pile foundation"
   ]
  },
  {
   "cell_type": "markdown",
   "id": "2df34f4e-8db6-4cf7-961c-19b17f912f5f",
   "metadata": {},
   "source": [
    "The price of this will be calculated based on size. Take the average size and cost: a 190 sq meter building's piles cost 12,500 nzd. This means that piles cost about 65.79 nzd per sq meter."
   ]
  },
  {
   "cell_type": "code",
   "execution_count": 1421,
   "id": "6da8e141-1455-4ba1-a7df-04bc3ab502ce",
   "metadata": {},
   "outputs": [],
   "source": [
    "piles_cost = 0\n",
    "for index, row in sa1_sa2_raise_floors_df.iterrows():\n",
    "    landuse = row['LandUse']\n",
    "    if not pd.isnull(landuse):\n",
    "        if is_important(landuse):\n",
    "            val = row['AREA_M2'] * 65.79\n",
    "            piles_cost = piles_cost + val"
   ]
  },
  {
   "cell_type": "code",
   "execution_count": 1209,
   "id": "f39b4c7b-e186-445e-9a7a-a695aa2af52f",
   "metadata": {},
   "outputs": [
    {
     "data": {
      "text/plain": [
       "23715956"
      ]
     },
     "execution_count": 1209,
     "metadata": {},
     "output_type": "execute_result"
    }
   ],
   "source": [
    "price_nzd * 11"
   ]
  },
  {
   "cell_type": "markdown",
   "id": "6ba480fa-5f32-4a9c-b019-eedcee555f5d",
   "metadata": {},
   "source": [
    "#### Plan 2  \n",
    "This plan will focus more on reinforcing houses in areas with large vulnerable populations."
   ]
  },
  {
   "cell_type": "markdown",
   "id": "cfff075a-18b6-401c-a41e-1213610f7f37",
   "metadata": {},
   "source": [
    "First I want to use the vulnerable population data that I found before to determine which areas have the most vulnerable people.  \n",
    "I'm going to do this 2 ways: see which areas are higher in each area relatively, and which areas have the highest total count."
   ]
  },
  {
   "cell_type": "code",
   "execution_count": 869,
   "id": "b044d0dc-8925-44e8-ab4b-170a70cdcdaa",
   "metadata": {},
   "outputs": [],
   "source": [
    "vulnerable = [young_child, over65, nocar, seeing, hearing, walking, remembering, washing, communicating]"
   ]
  },
  {
   "cell_type": "code",
   "execution_count": 871,
   "id": "9957f968-92fb-4ac5-a2d6-fdff9e3730d4",
   "metadata": {},
   "outputs": [],
   "source": [
    "# get areas with highest total count of vulnerable populations\n",
    "vulnerable_total = {}\n",
    "for v in vulnerable:\n",
    "    for a in v:\n",
    "        if a in vulnerable_total:\n",
    "            vulnerable_total[a] = vulnerable_total[a] + v[a]\n",
    "        else:\n",
    "            vulnerable_total[a] = v[a]"
   ]
  },
  {
   "cell_type": "code",
   "execution_count": 875,
   "id": "3e57596f-7f8e-4bad-bf3c-f30469770092",
   "metadata": {},
   "outputs": [],
   "source": [
    "vulnerable_total = {k: v for k, v in sorted(vulnerable_total.items(), key=lambda item: item[1], reverse = True)}"
   ]
  },
  {
   "cell_type": "markdown",
   "id": "2e58d824-fb98-4937-895b-5134a8d9eb52",
   "metadata": {},
   "source": [
    "##### Build Vertical Evacuation Shelters in Affected Areas with a large amount of vulnerable people"
   ]
  },
  {
   "cell_type": "code",
   "execution_count": 1081,
   "id": "4f5c85ab-67ff-4897-a773-b846d5830af0",
   "metadata": {},
   "outputs": [],
   "source": [
    "vulnerable_sa1 = list(vulnerable_total.keys())"
   ]
  },
  {
   "cell_type": "markdown",
   "id": "0c7cfc2a-4a96-4bd1-9e39-25ca8d875b5f",
   "metadata": {},
   "source": [
    "**most_affected_vulnerable**: merge a dataframe of all most affected SA1 areas with vulnerable residents with the [most_affected](#most_affected_cell) dataframe"
   ]
  },
  {
   "cell_type": "code",
   "execution_count": 1083,
   "id": "f7a43abb-adb0-4385-be5a-71bb55d13758",
   "metadata": {},
   "outputs": [],
   "source": [
    "vulnerable_sa1_df = pd.DataFrame(vulnerable_sa1, columns = ['SA1'])\n",
    "most_affected_vulnerable = pd.merge(most_affected, vulnerable_sa1_df, left_on = 'SA12018_V1', right_on = 'SA1')"
   ]
  },
  {
   "cell_type": "code",
   "execution_count": 1085,
   "id": "2526d043-2ec1-4e49-9486-e6651a7dcde1",
   "metadata": {},
   "outputs": [],
   "source": [
    "df_temp = pd.DataFrame.from_dict(vulnerable_total, orient = 'index', columns = ['vulnerable'])"
   ]
  },
  {
   "cell_type": "code",
   "execution_count": 1086,
   "id": "22b03f69-c499-47b6-824f-1bc70565bbc8",
   "metadata": {},
   "outputs": [],
   "source": [
    "df_temp = df_temp.reset_index()"
   ]
  },
  {
   "cell_type": "code",
   "execution_count": 1089,
   "id": "051aa29b-543a-4f5a-a015-69483cc0a56c",
   "metadata": {},
   "outputs": [],
   "source": [
    "df_temp.columns = ['SA1', 'vulnerable_count']"
   ]
  },
  {
   "cell_type": "code",
   "execution_count": 1091,
   "id": "ebc6843d-56dc-4696-8765-54eb870019f7",
   "metadata": {},
   "outputs": [],
   "source": [
    "most_affected_vulnerable = pd.merge(most_affected_vulnerable, df_temp, on = 'SA1')"
   ]
  },
  {
   "cell_type": "code",
   "execution_count": 1095,
   "id": "a254eeef-33a3-47a0-8e6b-101ba079fef7",
   "metadata": {},
   "outputs": [],
   "source": [
    "most_affected_vulnerable.to_file('../NZ_Data/case_study/christchurch/vulnerable_populations.geojson', driver = 'GeoJSON')"
   ]
  },
  {
   "cell_type": "markdown",
   "id": "8af6493c-4f57-4a36-b048-03229ab6d9a3",
   "metadata": {},
   "source": [
    "9 Shelters"
   ]
  },
  {
   "cell_type": "code",
   "execution_count": 1161,
   "id": "8af38651-3d5f-453d-87a0-f5043256fcb6",
   "metadata": {},
   "outputs": [],
   "source": [
    "plan2_shelters = price_nzd * 9"
   ]
  },
  {
   "cell_type": "code",
   "execution_count": 1163,
   "id": "ab8c980c-9cd2-4797-83d5-44b550aedddb",
   "metadata": {},
   "outputs": [
    {
     "data": {
      "text/plain": [
       "19403964"
      ]
     },
     "execution_count": 1163,
     "metadata": {},
     "output_type": "execute_result"
    }
   ],
   "source": [
    "plan2_shelters"
   ]
  },
  {
   "cell_type": "markdown",
   "id": "1f735eb9-d861-442d-9135-41b8b57382d9",
   "metadata": {},
   "source": [
    "Use remaining 10 million to add piles to houses in vulnerable areas."
   ]
  },
  {
   "cell_type": "code",
   "execution_count": 1288,
   "id": "aefea7de-cde2-46b5-a764-593ad05cbb18",
   "metadata": {},
   "outputs": [],
   "source": [
    "plan2_cost = sa1_low_income_piles + plan2_shelters"
   ]
  },
  {
   "cell_type": "code",
   "execution_count": 1290,
   "id": "b3f897a9-db7d-42ac-a992-83622a61a8e6",
   "metadata": {},
   "outputs": [
    {
     "data": {
      "text/plain": [
       "29934901.41959841"
      ]
     },
     "execution_count": 1290,
     "metadata": {},
     "output_type": "execute_result"
    }
   ],
   "source": [
    "plan2_cost"
   ]
  },
  {
   "cell_type": "markdown",
   "id": "0d80bbaf-5031-4ab8-8727-7b28fe87d3a2",
   "metadata": {},
   "source": [
    "Want to adapt the homes of people who would have difficulty recovering: People who have a low income."
   ]
  },
  {
   "cell_type": "code",
   "execution_count": 1216,
   "id": "89d2223c-8721-46d8-b1d9-951352a21554",
   "metadata": {},
   "outputs": [],
   "source": [
    "low_income = []\n",
    "for index, row in most_affected.iterrows():\n",
    "    _5 = 0 if np.isnan(row['C18_GroupedPersIncome_5K_Less']) else row['C18_GroupedPersIncome_5K_Less']\n",
    "    _10 = 0 if np.isnan(row['C18_GroupedPersIncome_5K_10K']) else row['C18_GroupedPersIncome_5K_10K']\n",
    "    _20 = 0 if np.isnan(row['C18_GroupedPersIncome_10K_20K']) else row['C18_GroupedPersIncome_10K_20K']\n",
    "    _30 = 0 if np.isnan(row['C18_GroupedPersIncome_20K_30K']) else row['C18_GroupedPersIncome_20K_30K']\n",
    "\n",
    "    low_income.append(_5 + _10 + _20 + _30)"
   ]
  },
  {
   "cell_type": "code",
   "execution_count": 1218,
   "id": "22a2995d-9037-4c2f-8bc6-4621fbf5b6d3",
   "metadata": {},
   "outputs": [],
   "source": [
    "most_affected['low_income'] = low_income"
   ]
  },
  {
   "cell_type": "code",
   "execution_count": 1224,
   "id": "da24362f-d632-4c14-bc28-d60b65ccea65",
   "metadata": {},
   "outputs": [],
   "source": [
    "low_income_dict = {}\n",
    "for index, row in most_affected.iterrows():\n",
    "    low_income_dict[row['SA12018_V1']] = row['low_income']"
   ]
  },
  {
   "cell_type": "code",
   "execution_count": 1226,
   "id": "d163138c-5be4-4561-8094-87f1cad147fe",
   "metadata": {},
   "outputs": [],
   "source": [
    "low_income_dict = {k: v for k, v in sorted(low_income_dict.items(), key=lambda item: item[1], reverse = True)}"
   ]
  },
  {
   "cell_type": "code",
   "execution_count": 1230,
   "id": "ffe1afe4-cb59-4834-867a-9cfee9b31dee",
   "metadata": {},
   "outputs": [],
   "source": [
    "most_affected.to_file('../NZ_Data/case_study/christchurch/low_income.geojson', driver = 'GeoJSON')"
   ]
  },
  {
   "cell_type": "code",
   "execution_count": 1276,
   "id": "2b18a956-112a-4ba6-9d18-82b4632a50a1",
   "metadata": {},
   "outputs": [],
   "source": [
    "sa1_low_income_piles = [7026371, 7026518, 7026516, 7026379]\n",
    "sa1_low_income_piles_df = pd.DataFrame(sa1_low_income_piles, columns = ['SA1'])\n",
    "sa1_low_income_piles_df = pd.merge(joined2, sa1_low_income_piles_df, left_on = 'SA12018_V1', right_on = 'SA1')"
   ]
  },
  {
   "cell_type": "code",
   "execution_count": 1278,
   "id": "1852e79f-f8ae-4419-a080-b762eee36677",
   "metadata": {},
   "outputs": [],
   "source": [
    "# get the cost of adding concrete pile foundations to houses in most affected areas with large amount of vulnerable population\n",
    "sa1_low_income_piles = 0\n",
    "for index, row in sa1_low_income_piles_df.iterrows():\n",
    "    landuse = row['LandUse']\n",
    "    if not pd.isnull(landuse):\n",
    "        if landuse[0] == '9' and landuse != '99':\n",
    "            val = row['AREA_M2'] * 65.79\n",
    "            sa1_low_income_piles = sa1_low_income_piles + val"
   ]
  },
  {
   "cell_type": "code",
   "execution_count": 1284,
   "id": "3f4d84e7-c391-4847-9f11-66580fa27add",
   "metadata": {},
   "outputs": [
    {
     "data": {
      "text/plain": [
       "10530937.419598412"
      ]
     },
     "execution_count": 1284,
     "metadata": {},
     "output_type": "execute_result"
    }
   ],
   "source": [
    "sa1_low_income_piles"
   ]
  },
  {
   "cell_type": "code",
   "execution_count": 1434,
   "id": "746c1ce1-f3c9-4365-8736-410060134f18",
   "metadata": {},
   "outputs": [],
   "source": [
    "sa1_low_income_adapt = [7026371, 7026518, 7026516, 7026379]\n",
    "low_income_adapt_df = pd.DataFrame(sa1_low_income_adapt, columns = ['SA1'])"
   ]
  },
  {
   "cell_type": "code",
   "execution_count": 1440,
   "id": "393c48d7-9919-417b-94b5-2f9514459b40",
   "metadata": {},
   "outputs": [],
   "source": [
    "low_income_adapt_df = most_affected.merge(low_income_adapt_df, right_on = 'SA1', left_on = 'SA12018_V1')"
   ]
  },
  {
   "cell_type": "code",
   "execution_count": 1444,
   "id": "33e1bdd0-99f1-49da-ac4a-a61801190a80",
   "metadata": {},
   "outputs": [],
   "source": [
    "low_income_adapt_df.to_file('../NZ_Data/case_study/christchurch/low_income_adapt.geojson', driver = 'GeoJSON')"
   ]
  }
 ],
 "metadata": {
  "kernelspec": {
   "display_name": "Python 3 (ipykernel)",
   "language": "python",
   "name": "python3"
  },
  "language_info": {
   "codemirror_mode": {
    "name": "ipython",
    "version": 3
   },
   "file_extension": ".py",
   "mimetype": "text/x-python",
   "name": "python",
   "nbconvert_exporter": "python",
   "pygments_lexer": "ipython3",
   "version": "3.10.9"
  }
 },
 "nbformat": 4,
 "nbformat_minor": 5
}

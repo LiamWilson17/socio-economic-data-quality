{
 "cells": [
  {
   "cell_type": "markdown",
   "id": "093ece47-92d7-44af-aeb2-a9655c3ac570",
   "metadata": {},
   "source": [
    "# Making Changes to Integrated Dataset Based On Case Study Findings"
   ]
  },
  {
   "cell_type": "markdown",
   "id": "aa08426b-b0d9-4107-a4fa-eb5509e490c7",
   "metadata": {},
   "source": [
    "#### Make new columns that are the combinations of much difficulty and cannot do at all in the disability section."
   ]
  },
  {
   "cell_type": "code",
   "execution_count": 52,
   "id": "e369970f-0897-445d-97fc-06dd15a895cd",
   "metadata": {},
   "outputs": [],
   "source": [
    "import pandas as pd\n",
    "import numpy as np\n",
    "import geopandas as gpd"
   ]
  },
  {
   "cell_type": "code",
   "execution_count": 125,
   "id": "759ec610-2cb1-4b2a-a245-e962fe445e0f",
   "metadata": {},
   "outputs": [],
   "source": [
    "df = pd.read_csv('../NZ_Data/integrated/reduced_integrated.csv')"
   ]
  },
  {
   "cell_type": "code",
   "execution_count": 127,
   "id": "8e707c6d-7351-4ffa-ae25-90d5f32239e0",
   "metadata": {},
   "outputs": [],
   "source": [
    "def combine(diffi, cannot):\n",
    "    total = []\n",
    "    for d,c in zip(diffi,cannot):\n",
    "        if np.isnan(c) and np.isnan(d):\n",
    "            total.append(np.nan)\n",
    "        elif np.isnan(d):\n",
    "            total.append(c)\n",
    "        elif np.isnan(c):\n",
    "                total.append(d)\n",
    "        else:\n",
    "            total.append(c + d)\n",
    "    return total"
   ]
  },
  {
   "cell_type": "code",
   "execution_count": 129,
   "id": "10079bff-808a-45c7-8ce5-bb0bf503dd84",
   "metadata": {},
   "outputs": [],
   "source": [
    "seeing = combine(list(df['C18_Seeing_A_lot_of_difficulty']), list(df['C18_Seeing_Cannot_do_at_all']))\n",
    "hearing = combine(list(df['C18_Hearing_A_lot_of_difficult']), list(df['C18_Hearing_Cannot_do_at_all']))\n",
    "walking = combine(list(df['C18_Walking_A_lot_of_difficult']), list(df['C18_Walking_Cannot_do_at_all']))\n",
    "remembering = combine(list(df['C18_Remembering_A_lot_of_diffi']), list(df['C18_Remembering_Cannot_do']))\n",
    "washing = combine(list(df['C18_Washing_A_lot_of_difficult']), list(df['C18_Washing_Cannot_do_at_all']))\n",
    "communicating = combine(list(df['C18_Communicating_A_lot_of_dif']), list(df['C18_Communicating_Cannot_do']))"
   ]
  },
  {
   "cell_type": "code",
   "execution_count": 131,
   "id": "e42d57e0-f98a-402d-acc6-73cd6c389837",
   "metadata": {},
   "outputs": [],
   "source": [
    "df['C18_difficulty_seeing'] = seeing\n",
    "df['C18_difficulty_hearing'] = hearing\n",
    "df['C18_difficulty_walking'] = walking\n",
    "df['C18_difficulty_remembering'] = remembering\n",
    "df['C18_difficulty_washing'] = washing\n",
    "df['C18_difficulty_communicating'] = communicating"
   ]
  },
  {
   "cell_type": "code",
   "execution_count": 133,
   "id": "85a3c5e4-27d5-43e6-9293-865549a6163e",
   "metadata": {},
   "outputs": [],
   "source": [
    "df.to_csv('../NZ_Data/integrated/modified_integrated.csv')"
   ]
  },
  {
   "cell_type": "markdown",
   "id": "3fc64239-8ffe-4c79-bfab-f7b0efdcc243",
   "metadata": {},
   "source": [
    "#### Make new column that is the combination of all income brackets up to 30k a year"
   ]
  },
  {
   "cell_type": "code",
   "execution_count": 136,
   "id": "4f155e48-e533-44d9-bd4e-fa789e4b5a9b",
   "metadata": {},
   "outputs": [],
   "source": [
    "low_income = []\n",
    "for index, row in df.iterrows():\n",
    "    _5 = 0 if np.isnan(row['C18_GroupedPersIncome_5K_Less']) else row['C18_GroupedPersIncome_5K_Less']\n",
    "    _10 = 0 if np.isnan(row['C18_GroupedPersIncome_5K_10K']) else row['C18_GroupedPersIncome_5K_10K']\n",
    "    _20 = 0 if np.isnan(row['C18_GroupedPersIncome_10K_20K']) else row['C18_GroupedPersIncome_10K_20K']\n",
    "    _30 = 0 if np.isnan(row['C18_GroupedPersIncome_20K_30K']) else row['C18_GroupedPersIncome_20K_30K']\n",
    "\n",
    "    low_income.append(_5 + _10 + _20 + _30)"
   ]
  },
  {
   "cell_type": "code",
   "execution_count": 138,
   "id": "14c2f925-3e38-4f9e-b0a4-cf82863b47a9",
   "metadata": {},
   "outputs": [],
   "source": [
    "df['low_income_count'] = low_income"
   ]
  },
  {
   "cell_type": "code",
   "execution_count": 115,
   "id": "0e7be6e6-e21f-460b-b246-83330804691e",
   "metadata": {},
   "outputs": [],
   "source": [
    "df.to_csv('../NZ_Data/integrated/modified_integrated.csv')"
   ]
  },
  {
   "cell_type": "markdown",
   "id": "33514723-972e-4e58-ab7f-e42d2b3e361d",
   "metadata": {},
   "source": [
    "#### Add columns for estimated population distribution per house during the day and night"
   ]
  },
  {
   "cell_type": "code",
   "execution_count": 159,
   "id": "fb3e93a9-98d5-4886-9e93-885cd19c9fb2",
   "metadata": {},
   "outputs": [],
   "source": [
    "rating_units = gpd.read_file('../NZ_Data/case_study/Rating_Units/Rating_Units.shp')"
   ]
  },
  {
   "cell_type": "code",
   "execution_count": 77,
   "id": "917bf3b0-4168-4889-a974-59a5182a4d58",
   "metadata": {},
   "outputs": [],
   "source": [
    "joined = gpd.sjoin(gdf2, rating_units, how = 'inner')"
   ]
  },
  {
   "cell_type": "code",
   "execution_count": 83,
   "id": "b96fdee0-12ee-43ff-8787-295308be4e8b",
   "metadata": {},
   "outputs": [],
   "source": [
    "# spilt population between houses equally\n",
    "# get the number of buildings in each sa1\n",
    "# get SA1 districts\n",
    "sa1 = list(set(joined['SA12018_V1']))\n",
    "num_house = {}\n",
    "for i in sa1:\n",
    "    num_house[i] = 0\n",
    "for index, row in joined.iterrows():\n",
    "    if not pd.isnull(row['LandUse']) and row['LandUse'][0] == '9' and row['LandUse'] != '99':\n",
    "        sa1_ = row['SA12018_V1']\n",
    "        num_house[sa1_] = num_house[sa1_] + 1"
   ]
  },
  {
   "cell_type": "code",
   "execution_count": 85,
   "id": "27d4c154-099c-4caf-ae09-17ee525ad6f3",
   "metadata": {},
   "outputs": [],
   "source": [
    "per_house_day = {}\n",
    "per_house_night = {}\n",
    "total_day = 0\n",
    "total_night = 0\n",
    "for a in sa1:\n",
    "    row = gdf2[gdf2['SA12018_V1'] == a]\n",
    "    # get the total day and night resident population\n",
    "    num_day = float(row['C18_CURPop'])\n",
    "    num_night = float(row['C18_CNPop'])\n",
    "    if not np.isnan(num_day):\n",
    "        total_day = total_day + num_day\n",
    "    if not np.isnan(num_night):\n",
    "        total_night = total_night + num_night\n",
    "\n",
    "    if num_house[a] > 0:\n",
    "        per_house_day[a] = num_day / num_house[a]\n",
    "        per_house_night[a] = num_night / num_house[a]\n",
    "    else:\n",
    "        per_house_day[a] = 0\n",
    "        per_house_night[a] = 0"
   ]
  },
  {
   "cell_type": "code",
   "execution_count": 87,
   "id": "69c65cce-cf3e-4e34-8178-8678ba572424",
   "metadata": {},
   "outputs": [],
   "source": [
    "per_house_day_df = pd.DataFrame.from_dict(per_house_day, orient = 'index', columns = ['day_distribution'])\n",
    "per_house_day_df = per_house_day_df.reset_index()"
   ]
  },
  {
   "cell_type": "code",
   "execution_count": 89,
   "id": "7e68734b-6ec0-4dd9-a110-bf6aba727598",
   "metadata": {},
   "outputs": [],
   "source": [
    "per_house_night_df = pd.DataFrame.from_dict(per_house_night, orient = 'index', columns = ['night_distribution'])\n",
    "per_house_night_df = per_house_night_df.reset_index()"
   ]
  },
  {
   "cell_type": "code",
   "execution_count": 91,
   "id": "5d11bf95-955c-49e5-9848-964b94ea4b24",
   "metadata": {},
   "outputs": [],
   "source": [
    "house_dist_df = pd.merge(per_house_day_df, per_house_night_df, on = 'index')"
   ]
  },
  {
   "cell_type": "code",
   "execution_count": 142,
   "id": "8de2ad03-2b62-481e-b527-c05ff983f1d5",
   "metadata": {},
   "outputs": [],
   "source": [
    "df = df.merge(house_dist_df, how = 'outer', left_on = 'SA12018_V1_00', right_on = 'index')"
   ]
  },
  {
   "cell_type": "code",
   "execution_count": 172,
   "id": "a7bcbe7d-88b0-41e4-88ae-255911be34f7",
   "metadata": {},
   "outputs": [],
   "source": [
    "df = df.drop(['index', 'Unnamed: 0'], axis = 1)"
   ]
  },
  {
   "cell_type": "code",
   "execution_count": 177,
   "id": "d27f4c2c-0426-409e-a5fd-002ef5667f0f",
   "metadata": {},
   "outputs": [],
   "source": [
    "df.to_csv('../NZ_Data/integrated/modified_integrated.csv')"
   ]
  },
  {
   "cell_type": "code",
   "execution_count": 61,
   "id": "aab4e8fc-b8a4-4c3e-b7cb-c9c5f0d5f210",
   "metadata": {},
   "outputs": [],
   "source": [
    "shape = gpd.read_file('../QGIS/statsnz-statistical-area-1-2018-generalised-SHP/statistical-area-1-2018-generalised.shp')"
   ]
  },
  {
   "cell_type": "code",
   "execution_count": 65,
   "id": "81b8125b-e743-410c-810f-a622152aec31",
   "metadata": {},
   "outputs": [],
   "source": [
    "lst = list(shape['SA12018_V1'])"
   ]
  },
  {
   "cell_type": "code",
   "execution_count": 67,
   "id": "57965d9e-288f-4cc2-b249-99deb1ab42dd",
   "metadata": {},
   "outputs": [],
   "source": [
    "for i in range(0,len(lst)):\n",
    "    lst[i] = int(lst[i])"
   ]
  },
  {
   "cell_type": "code",
   "execution_count": 69,
   "id": "a2d82be1-dce4-4df0-ae92-465ad3ca791f",
   "metadata": {},
   "outputs": [],
   "source": [
    "shape['SA12018_V1'] = lst"
   ]
  },
  {
   "cell_type": "code",
   "execution_count": 152,
   "id": "d00fa834-434e-4351-9b92-22357e2b2d6d",
   "metadata": {},
   "outputs": [],
   "source": [
    "gdf2 = shape.merge(df, how='right', left_on = 'SA12018_V1', right_on = 'SA12018_V1_00')"
   ]
  },
  {
   "cell_type": "code",
   "execution_count": 167,
   "id": "c1033959-40b2-48a5-822e-d0ccfbb60980",
   "metadata": {},
   "outputs": [],
   "source": [
    "gdf2 = gdf2.drop(['index', 'Unnamed: 0'], axis=1)"
   ]
  },
  {
   "cell_type": "code",
   "execution_count": 169,
   "id": "a928b89b-dce3-4aea-96c6-b85d3072294d",
   "metadata": {},
   "outputs": [],
   "source": [
    "gdf2 = gdf2.loc[:, ~gdf2.columns.duplicated(keep='first')]"
   ]
  },
  {
   "cell_type": "code",
   "execution_count": 171,
   "id": "1571b091-5fa9-4b4f-b2e5-af5ea307ac66",
   "metadata": {},
   "outputs": [],
   "source": [
    "gdf2.to_file('../NZ_Data/integrated/modified_integrated.geojson', driver='GeoJSON')"
   ]
  },
  {
   "cell_type": "code",
   "execution_count": null,
   "id": "6ca3bba2-e788-4aa9-8ddd-798266be09ef",
   "metadata": {},
   "outputs": [],
   "source": []
  }
 ],
 "metadata": {
  "kernelspec": {
   "display_name": "Python 3 (ipykernel)",
   "language": "python",
   "name": "python3"
  },
  "language_info": {
   "codemirror_mode": {
    "name": "ipython",
    "version": 3
   },
   "file_extension": ".py",
   "mimetype": "text/x-python",
   "name": "python",
   "nbconvert_exporter": "python",
   "pygments_lexer": "ipython3",
   "version": "3.10.9"
  }
 },
 "nbformat": 4,
 "nbformat_minor": 5
}

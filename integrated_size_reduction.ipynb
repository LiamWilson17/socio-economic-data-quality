{
 "cells": [
  {
   "cell_type": "code",
   "execution_count": 13,
   "id": "8c83c55b-ae50-40f5-80a6-9f64e7f114d6",
   "metadata": {},
   "outputs": [],
   "source": [
    "import pandas as pd\n",
    "import numbers\n",
    "import numpy as np"
   ]
  },
  {
   "cell_type": "code",
   "execution_count": 2,
   "id": "04c2be60-1950-4cff-8eb1-10770514f883",
   "metadata": {},
   "outputs": [],
   "source": [
    "df = pd.read_csv('NZ_Data/integrated_checked.csv')"
   ]
  },
  {
   "cell_type": "code",
   "execution_count": 61,
   "id": "0b2f55fe-0030-4f33-af98-e4aedfb7871f",
   "metadata": {},
   "outputs": [],
   "source": [
    "cols = df.columns"
   ]
  },
  {
   "cell_type": "code",
   "execution_count": 62,
   "id": "e210a44b-77c6-4094-a694-55f621901030",
   "metadata": {},
   "outputs": [],
   "source": [
    "d = {}"
   ]
  },
  {
   "cell_type": "code",
   "execution_count": 63,
   "id": "1958aec5-41be-4f6b-b31a-ded88debd454",
   "metadata": {},
   "outputs": [
    {
     "name": "stderr",
     "output_type": "stream",
     "text": [
      "/var/folders/91/744731rj0sl0hn9bpmn025540000gn/T/ipykernel_29769/643142993.py:4: RuntimeWarning: All-NaN axis encountered\n",
      "  d[col] = np.nanmax(vals)\n"
     ]
    }
   ],
   "source": [
    "for col in cols:\n",
    "    vals = list(df[col])\n",
    "    if isinstance(vals[0], numbers.Number):\n",
    "        d[col] = np.nanmax(vals)\n",
    "    else:\n",
    "        d[col] = 'string'\n",
    "            "
   ]
  },
  {
   "cell_type": "code",
   "execution_count": 64,
   "id": "268c9ea7-986f-4534-a11a-9fa83107f982",
   "metadata": {
    "tags": []
   },
   "outputs": [],
   "source": [
    "for col in d:\n",
    "    mx = d[col]\n",
    "    if type(mx) == np.int64:\n",
    "        df[col] = pd.to_numeric(df[col], downcast='unsigned')\n",
    "    if type(mx) == np.float64:\n",
    "        df[col] = pd.to_numeric(df[col], downcast='float')\n",
    "    if mx == 'string':\n",
    "        df[col] = df[col].astype('category')"
   ]
  },
  {
   "cell_type": "code",
   "execution_count": 66,
   "id": "b0817027-9b39-4765-92dd-b7befafef65b",
   "metadata": {},
   "outputs": [],
   "source": [
    "dtypes = df.dtypes\n",
    "colnames = dtypes.index\n",
    "types = [i.name for i in dtypes.values]\n",
    "column_types = dict(zip(colnames, types))"
   ]
  },
  {
   "cell_type": "code",
   "execution_count": 69,
   "id": "067e69ae-6baf-4d6a-8f64-18d1bf2532d5",
   "metadata": {},
   "outputs": [],
   "source": [
    "df = pd.read_csv('NZ_Data/integrated_checked.csv', dtype = column_types)"
   ]
  }
 ],
 "metadata": {
  "kernelspec": {
   "display_name": "Python 3 (ipykernel)",
   "language": "python",
   "name": "python3"
  },
  "language_info": {
   "codemirror_mode": {
    "name": "ipython",
    "version": 3
   },
   "file_extension": ".py",
   "mimetype": "text/x-python",
   "name": "python",
   "nbconvert_exporter": "python",
   "pygments_lexer": "ipython3",
   "version": "3.10.9"
  }
 },
 "nbformat": 4,
 "nbformat_minor": 5
}
